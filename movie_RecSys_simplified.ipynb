{
 "cells": [
  {
   "cell_type": "code",
   "execution_count": 22,
   "metadata": {},
   "outputs": [],
   "source": [
    "import pandas as pd\n",
    "from surprise import Reader"
   ]
  },
  {
   "cell_type": "code",
   "execution_count": 23,
   "metadata": {},
   "outputs": [],
   "source": [
    "file_path2 = '/Users/rogerlbcn/Library/CloudStorage/OneDrive-Personal/Python_Projects/Movies_RecSys/Movies_RecSys/ml-25m/ratings.csv'\n",
    "# ratings_df_s = pd.read_csv(file_path2, nrows=1000000) # NOTE: The kernel doesn't crush with 1M observations\n",
    "ratings_df_s = pd.read_csv(file_path2, nrows=5000000) # Using 5 Million observations"
   ]
  },
  {
   "cell_type": "markdown",
   "metadata": {},
   "source": [
    "## Inspecting dataset"
   ]
  },
  {
   "cell_type": "code",
   "execution_count": 24,
   "metadata": {},
   "outputs": [
    {
     "data": {
      "text/html": [
       "<div>\n",
       "<style scoped>\n",
       "    .dataframe tbody tr th:only-of-type {\n",
       "        vertical-align: middle;\n",
       "    }\n",
       "\n",
       "    .dataframe tbody tr th {\n",
       "        vertical-align: top;\n",
       "    }\n",
       "\n",
       "    .dataframe thead th {\n",
       "        text-align: right;\n",
       "    }\n",
       "</style>\n",
       "<table border=\"1\" class=\"dataframe\">\n",
       "  <thead>\n",
       "    <tr style=\"text-align: right;\">\n",
       "      <th></th>\n",
       "      <th>userId</th>\n",
       "      <th>movieId</th>\n",
       "      <th>rating</th>\n",
       "      <th>timestamp</th>\n",
       "    </tr>\n",
       "  </thead>\n",
       "  <tbody>\n",
       "    <tr>\n",
       "      <th>0</th>\n",
       "      <td>1</td>\n",
       "      <td>296</td>\n",
       "      <td>5.0</td>\n",
       "      <td>1147880044</td>\n",
       "    </tr>\n",
       "    <tr>\n",
       "      <th>1</th>\n",
       "      <td>1</td>\n",
       "      <td>306</td>\n",
       "      <td>3.5</td>\n",
       "      <td>1147868817</td>\n",
       "    </tr>\n",
       "    <tr>\n",
       "      <th>2</th>\n",
       "      <td>1</td>\n",
       "      <td>307</td>\n",
       "      <td>5.0</td>\n",
       "      <td>1147868828</td>\n",
       "    </tr>\n",
       "    <tr>\n",
       "      <th>3</th>\n",
       "      <td>1</td>\n",
       "      <td>665</td>\n",
       "      <td>5.0</td>\n",
       "      <td>1147878820</td>\n",
       "    </tr>\n",
       "    <tr>\n",
       "      <th>4</th>\n",
       "      <td>1</td>\n",
       "      <td>899</td>\n",
       "      <td>3.5</td>\n",
       "      <td>1147868510</td>\n",
       "    </tr>\n",
       "    <tr>\n",
       "      <th>...</th>\n",
       "      <td>...</td>\n",
       "      <td>...</td>\n",
       "      <td>...</td>\n",
       "      <td>...</td>\n",
       "    </tr>\n",
       "    <tr>\n",
       "      <th>4999995</th>\n",
       "      <td>32564</td>\n",
       "      <td>54259</td>\n",
       "      <td>3.5</td>\n",
       "      <td>1337991854</td>\n",
       "    </tr>\n",
       "    <tr>\n",
       "      <th>4999996</th>\n",
       "      <td>32564</td>\n",
       "      <td>56367</td>\n",
       "      <td>3.5</td>\n",
       "      <td>1337991737</td>\n",
       "    </tr>\n",
       "    <tr>\n",
       "      <th>4999997</th>\n",
       "      <td>32564</td>\n",
       "      <td>64614</td>\n",
       "      <td>4.5</td>\n",
       "      <td>1337991044</td>\n",
       "    </tr>\n",
       "    <tr>\n",
       "      <th>4999998</th>\n",
       "      <td>32564</td>\n",
       "      <td>64620</td>\n",
       "      <td>3.5</td>\n",
       "      <td>1337992055</td>\n",
       "    </tr>\n",
       "    <tr>\n",
       "      <th>4999999</th>\n",
       "      <td>32564</td>\n",
       "      <td>66665</td>\n",
       "      <td>3.5</td>\n",
       "      <td>1337992723</td>\n",
       "    </tr>\n",
       "  </tbody>\n",
       "</table>\n",
       "<p>5000000 rows × 4 columns</p>\n",
       "</div>"
      ],
      "text/plain": [
       "         userId  movieId  rating   timestamp\n",
       "0             1      296     5.0  1147880044\n",
       "1             1      306     3.5  1147868817\n",
       "2             1      307     5.0  1147868828\n",
       "3             1      665     5.0  1147878820\n",
       "4             1      899     3.5  1147868510\n",
       "...         ...      ...     ...         ...\n",
       "4999995   32564    54259     3.5  1337991854\n",
       "4999996   32564    56367     3.5  1337991737\n",
       "4999997   32564    64614     4.5  1337991044\n",
       "4999998   32564    64620     3.5  1337992055\n",
       "4999999   32564    66665     3.5  1337992723\n",
       "\n",
       "[5000000 rows x 4 columns]"
      ]
     },
     "execution_count": 24,
     "metadata": {},
     "output_type": "execute_result"
    }
   ],
   "source": [
    "ratings_df_s"
   ]
  },
  {
   "cell_type": "code",
   "execution_count": 25,
   "metadata": {},
   "outputs": [
    {
     "data": {
      "text/plain": [
       "userId       5000000\n",
       "movieId      5000000\n",
       "rating       5000000\n",
       "timestamp    5000000\n",
       "dtype: int64"
      ]
     },
     "execution_count": 25,
     "metadata": {},
     "output_type": "execute_result"
    }
   ],
   "source": [
    "rating_count = ratings_df_s.count()\n",
    "rating_count\n"
   ]
  },
  {
   "cell_type": "code",
   "execution_count": 26,
   "metadata": {},
   "outputs": [
    {
     "data": {
      "text/plain": [
       "userId       0\n",
       "movieId      0\n",
       "rating       0\n",
       "timestamp    0\n",
       "dtype: int64"
      ]
     },
     "execution_count": 26,
     "metadata": {},
     "output_type": "execute_result"
    }
   ],
   "source": [
    "ratings_df_s.isnull().sum()"
   ]
  },
  {
   "cell_type": "code",
   "execution_count": 27,
   "metadata": {},
   "outputs": [
    {
     "data": {
      "text/html": [
       "<div>\n",
       "<style scoped>\n",
       "    .dataframe tbody tr th:only-of-type {\n",
       "        vertical-align: middle;\n",
       "    }\n",
       "\n",
       "    .dataframe tbody tr th {\n",
       "        vertical-align: top;\n",
       "    }\n",
       "\n",
       "    .dataframe thead th {\n",
       "        text-align: right;\n",
       "    }\n",
       "</style>\n",
       "<table border=\"1\" class=\"dataframe\">\n",
       "  <thead>\n",
       "    <tr style=\"text-align: right;\">\n",
       "      <th></th>\n",
       "      <th>userId</th>\n",
       "      <th>movieId</th>\n",
       "      <th>rating</th>\n",
       "      <th>timestamp</th>\n",
       "    </tr>\n",
       "  </thead>\n",
       "  <tbody>\n",
       "    <tr>\n",
       "      <th>count</th>\n",
       "      <td>5.000000e+06</td>\n",
       "      <td>5.000000e+06</td>\n",
       "      <td>5.000000e+06</td>\n",
       "      <td>5.000000e+06</td>\n",
       "    </tr>\n",
       "    <tr>\n",
       "      <th>mean</th>\n",
       "      <td>1.653277e+04</td>\n",
       "      <td>2.162420e+04</td>\n",
       "      <td>3.531443e+00</td>\n",
       "      <td>1.216921e+09</td>\n",
       "    </tr>\n",
       "    <tr>\n",
       "      <th>std</th>\n",
       "      <td>9.412794e+03</td>\n",
       "      <td>3.952561e+04</td>\n",
       "      <td>1.063327e+00</td>\n",
       "      <td>2.276145e+08</td>\n",
       "    </tr>\n",
       "    <tr>\n",
       "      <th>min</th>\n",
       "      <td>1.000000e+00</td>\n",
       "      <td>1.000000e+00</td>\n",
       "      <td>5.000000e-01</td>\n",
       "      <td>7.896520e+08</td>\n",
       "    </tr>\n",
       "    <tr>\n",
       "      <th>25%</th>\n",
       "      <td>8.455000e+03</td>\n",
       "      <td>1.197000e+03</td>\n",
       "      <td>3.000000e+00</td>\n",
       "      <td>1.013909e+09</td>\n",
       "    </tr>\n",
       "    <tr>\n",
       "      <th>50%</th>\n",
       "      <td>1.665800e+04</td>\n",
       "      <td>2.951000e+03</td>\n",
       "      <td>3.500000e+00</td>\n",
       "      <td>1.196567e+09</td>\n",
       "    </tr>\n",
       "    <tr>\n",
       "      <th>75%</th>\n",
       "      <td>2.473700e+04</td>\n",
       "      <td>8.641000e+03</td>\n",
       "      <td>4.000000e+00</td>\n",
       "      <td>1.449384e+09</td>\n",
       "    </tr>\n",
       "    <tr>\n",
       "      <th>max</th>\n",
       "      <td>3.256400e+04</td>\n",
       "      <td>2.091630e+05</td>\n",
       "      <td>5.000000e+00</td>\n",
       "      <td>1.574328e+09</td>\n",
       "    </tr>\n",
       "  </tbody>\n",
       "</table>\n",
       "</div>"
      ],
      "text/plain": [
       "             userId       movieId        rating     timestamp\n",
       "count  5.000000e+06  5.000000e+06  5.000000e+06  5.000000e+06\n",
       "mean   1.653277e+04  2.162420e+04  3.531443e+00  1.216921e+09\n",
       "std    9.412794e+03  3.952561e+04  1.063327e+00  2.276145e+08\n",
       "min    1.000000e+00  1.000000e+00  5.000000e-01  7.896520e+08\n",
       "25%    8.455000e+03  1.197000e+03  3.000000e+00  1.013909e+09\n",
       "50%    1.665800e+04  2.951000e+03  3.500000e+00  1.196567e+09\n",
       "75%    2.473700e+04  8.641000e+03  4.000000e+00  1.449384e+09\n",
       "max    3.256400e+04  2.091630e+05  5.000000e+00  1.574328e+09"
      ]
     },
     "execution_count": 27,
     "metadata": {},
     "output_type": "execute_result"
    }
   ],
   "source": [
    "ratings_df_s.describe()"
   ]
  },
  {
   "cell_type": "code",
   "execution_count": 28,
   "metadata": {},
   "outputs": [],
   "source": [
    "ratings_df_s = ratings_df_s.drop(columns=['timestamp'])  # Features excluding 'movieId'"
   ]
  },
  {
   "cell_type": "code",
   "execution_count": 29,
   "metadata": {},
   "outputs": [
    {
     "data": {
      "text/html": [
       "<div>\n",
       "<style scoped>\n",
       "    .dataframe tbody tr th:only-of-type {\n",
       "        vertical-align: middle;\n",
       "    }\n",
       "\n",
       "    .dataframe tbody tr th {\n",
       "        vertical-align: top;\n",
       "    }\n",
       "\n",
       "    .dataframe thead th {\n",
       "        text-align: right;\n",
       "    }\n",
       "</style>\n",
       "<table border=\"1\" class=\"dataframe\">\n",
       "  <thead>\n",
       "    <tr style=\"text-align: right;\">\n",
       "      <th></th>\n",
       "      <th>userId</th>\n",
       "      <th>movieId</th>\n",
       "      <th>rating</th>\n",
       "    </tr>\n",
       "  </thead>\n",
       "  <tbody>\n",
       "    <tr>\n",
       "      <th>0</th>\n",
       "      <td>1</td>\n",
       "      <td>296</td>\n",
       "      <td>5.0</td>\n",
       "    </tr>\n",
       "    <tr>\n",
       "      <th>1</th>\n",
       "      <td>1</td>\n",
       "      <td>306</td>\n",
       "      <td>3.5</td>\n",
       "    </tr>\n",
       "    <tr>\n",
       "      <th>2</th>\n",
       "      <td>1</td>\n",
       "      <td>307</td>\n",
       "      <td>5.0</td>\n",
       "    </tr>\n",
       "    <tr>\n",
       "      <th>3</th>\n",
       "      <td>1</td>\n",
       "      <td>665</td>\n",
       "      <td>5.0</td>\n",
       "    </tr>\n",
       "    <tr>\n",
       "      <th>4</th>\n",
       "      <td>1</td>\n",
       "      <td>899</td>\n",
       "      <td>3.5</td>\n",
       "    </tr>\n",
       "    <tr>\n",
       "      <th>...</th>\n",
       "      <td>...</td>\n",
       "      <td>...</td>\n",
       "      <td>...</td>\n",
       "    </tr>\n",
       "    <tr>\n",
       "      <th>4999995</th>\n",
       "      <td>32564</td>\n",
       "      <td>54259</td>\n",
       "      <td>3.5</td>\n",
       "    </tr>\n",
       "    <tr>\n",
       "      <th>4999996</th>\n",
       "      <td>32564</td>\n",
       "      <td>56367</td>\n",
       "      <td>3.5</td>\n",
       "    </tr>\n",
       "    <tr>\n",
       "      <th>4999997</th>\n",
       "      <td>32564</td>\n",
       "      <td>64614</td>\n",
       "      <td>4.5</td>\n",
       "    </tr>\n",
       "    <tr>\n",
       "      <th>4999998</th>\n",
       "      <td>32564</td>\n",
       "      <td>64620</td>\n",
       "      <td>3.5</td>\n",
       "    </tr>\n",
       "    <tr>\n",
       "      <th>4999999</th>\n",
       "      <td>32564</td>\n",
       "      <td>66665</td>\n",
       "      <td>3.5</td>\n",
       "    </tr>\n",
       "  </tbody>\n",
       "</table>\n",
       "<p>5000000 rows × 3 columns</p>\n",
       "</div>"
      ],
      "text/plain": [
       "         userId  movieId  rating\n",
       "0             1      296     5.0\n",
       "1             1      306     3.5\n",
       "2             1      307     5.0\n",
       "3             1      665     5.0\n",
       "4             1      899     3.5\n",
       "...         ...      ...     ...\n",
       "4999995   32564    54259     3.5\n",
       "4999996   32564    56367     3.5\n",
       "4999997   32564    64614     4.5\n",
       "4999998   32564    64620     3.5\n",
       "4999999   32564    66665     3.5\n",
       "\n",
       "[5000000 rows x 3 columns]"
      ]
     },
     "execution_count": 29,
     "metadata": {},
     "output_type": "execute_result"
    }
   ],
   "source": [
    "ratings_df_s"
   ]
  },
  {
   "cell_type": "code",
   "execution_count": 30,
   "metadata": {},
   "outputs": [
    {
     "name": "stdout",
     "output_type": "stream",
     "text": [
      "<class 'pandas.core.frame.DataFrame'>\n",
      "RangeIndex: 5000000 entries, 0 to 4999999\n",
      "Data columns (total 3 columns):\n",
      " #   Column   Dtype  \n",
      "---  ------   -----  \n",
      " 0   userId   int64  \n",
      " 1   movieId  int64  \n",
      " 2   rating   float64\n",
      "dtypes: float64(1), int64(2)\n",
      "memory usage: 114.4 MB\n"
     ]
    }
   ],
   "source": [
    "ratings_df_s.info()"
   ]
  },
  {
   "cell_type": "code",
   "execution_count": 31,
   "metadata": {},
   "outputs": [
    {
     "data": {
      "text/plain": [
       "array([5. , 3.5, 4. , 2.5, 4.5, 3. , 0.5, 2. , 1. , 1.5])"
      ]
     },
     "execution_count": 31,
     "metadata": {},
     "output_type": "execute_result"
    }
   ],
   "source": [
    "ratings_df_s['rating'].unique()"
   ]
  },
  {
   "cell_type": "code",
   "execution_count": 32,
   "metadata": {},
   "outputs": [
    {
     "name": "stdout",
     "output_type": "stream",
     "text": [
      "userId\n",
      "movieId\n",
      "rating\n"
     ]
    }
   ],
   "source": [
    "for i in ratings_df_s:\n",
    "    print(i)"
   ]
  },
  {
   "cell_type": "code",
   "execution_count": 33,
   "metadata": {},
   "outputs": [],
   "source": [
    "from surprise import Dataset\n",
    "from surprise import Reader\n",
    "\n",
    "# Define a Reader object specifying the rating scale\n",
    "reader = Reader(rating_scale=(0, 5))  # Assuming your ratings range from 1 to 5\n",
    "\n",
    "data = Dataset.load_from_df(ratings_df_s[['userId', 'movieId', 'rating']], reader)"
   ]
  },
  {
   "cell_type": "code",
   "execution_count": 34,
   "metadata": {},
   "outputs": [
    {
     "data": {
      "text/plain": [
       "<surprise.dataset.DatasetAutoFolds at 0x30acbf790>"
      ]
     },
     "execution_count": 34,
     "metadata": {},
     "output_type": "execute_result"
    }
   ],
   "source": [
    "data"
   ]
  },
  {
   "cell_type": "code",
   "execution_count": 35,
   "metadata": {},
   "outputs": [
    {
     "data": {
      "text/plain": [
       "5000000"
      ]
     },
     "execution_count": 35,
     "metadata": {},
     "output_type": "execute_result"
    }
   ],
   "source": [
    "len(ratings_df_s)"
   ]
  },
  {
   "cell_type": "code",
   "execution_count": 36,
   "metadata": {},
   "outputs": [],
   "source": [
    "from surprise.model_selection import train_test_split\n",
    "\n",
    "train_set, test_set = train_test_split(data, test_size=0.2, random_state=42)\n",
    "\n"
   ]
  },
  {
   "cell_type": "markdown",
   "metadata": {},
   "source": [
    "## Creating and fitting the model (`KNNBasic`)"
   ]
  },
  {
   "cell_type": "markdown",
   "metadata": {},
   "source": [
    "This model `KNNBasic` with 5M overvations took 13 min 47 sec to run"
   ]
  },
  {
   "cell_type": "code",
   "execution_count": 37,
   "metadata": {},
   "outputs": [
    {
     "name": "stdout",
     "output_type": "stream",
     "text": [
      "Computing the msd similarity matrix...\n",
      "Done computing similarity matrix.\n"
     ]
    },
    {
     "data": {
      "text/plain": [
       "<surprise.prediction_algorithms.knns.KNNBasic at 0x30accfd10>"
      ]
     },
     "execution_count": 37,
     "metadata": {},
     "output_type": "execute_result"
    }
   ],
   "source": [
    "from surprise import KNNBasic\n",
    "\n",
    "# Initialize the model (you can use any other algorithm as well)\n",
    "model = KNNBasic()\n",
    "\n",
    "# Train the model on the training set\n",
    "model.fit(train_set)\n"
   ]
  },
  {
   "cell_type": "markdown",
   "metadata": {},
   "source": [
    "## Creating predictions on the test set"
   ]
  },
  {
   "cell_type": "markdown",
   "metadata": {},
   "source": [
    "It took a bit over 16 min to get the predictions"
   ]
  },
  {
   "cell_type": "code",
   "execution_count": 38,
   "metadata": {},
   "outputs": [
    {
     "data": {
      "text/plain": [
       "[Prediction(uid=23433, iid=595, r_ui=3.0, est=3.9375, details={'actual_k': 40, 'was_impossible': False}),\n",
       " Prediction(uid=19718, iid=164909, r_ui=2.5, est=4.289689069233612, details={'actual_k': 40, 'was_impossible': False}),\n",
       " Prediction(uid=31776, iid=413, r_ui=3.0, est=2.6866965042390167, details={'actual_k': 40, 'was_impossible': False}),\n",
       " Prediction(uid=30197, iid=31658, r_ui=3.0, est=4.086720237723111, details={'actual_k': 40, 'was_impossible': False}),\n",
       " Prediction(uid=15526, iid=780, r_ui=5.0, est=3.93428502405989, details={'actual_k': 40, 'was_impossible': False})]"
      ]
     },
     "execution_count": 38,
     "metadata": {},
     "output_type": "execute_result"
    }
   ],
   "source": [
    "# Creating some predicitons on the test set:\n",
    "\n",
    "predictions = model.test(test_set)\n",
    "predictions[:5] # showing the first 5"
   ]
  },
  {
   "cell_type": "code",
   "execution_count": 39,
   "metadata": {},
   "outputs": [
    {
     "data": {
      "text/plain": [
       "[(189, 3.0),\n",
       " (2706, 4.0),\n",
       " (12, 5.0),\n",
       " (524, 5.0),\n",
       " (7897, 2.0),\n",
       " (871, 4.0),\n",
       " (922, 4.0),\n",
       " (3459, 4.0),\n",
       " (5325, 5.0),\n",
       " (3192, 4.0),\n",
       " (2199, 5.0),\n",
       " (1493, 4.0),\n",
       " (34, 3.0),\n",
       " (3297, 4.0),\n",
       " (663, 4.0),\n",
       " (1829, 5.0),\n",
       " (4845, 2.0),\n",
       " (604, 4.0),\n",
       " (1551, 3.0),\n",
       " (937, 3.0),\n",
       " (784, 5.0),\n",
       " (1818, 4.0),\n",
       " (4518, 4.0),\n",
       " (2725, 4.0),\n",
       " (1642, 5.0),\n",
       " (2275, 3.0),\n",
       " (3434, 3.0),\n",
       " (2097, 5.0),\n",
       " (773, 3.0),\n",
       " (798, 4.0),\n",
       " (1500, 4.0),\n",
       " (10708, 3.0),\n",
       " (10577, 4.0),\n",
       " (1631, 5.0),\n",
       " (5113, 3.0),\n",
       " (931, 3.0),\n",
       " (6444, 5.0),\n",
       " (1024, 3.0),\n",
       " (1866, 3.0),\n",
       " (470, 5.0),\n",
       " (4439, 4.0),\n",
       " (792, 4.0),\n",
       " (3075, 4.0),\n",
       " (1938, 3.0),\n",
       " (778, 4.0),\n",
       " (1405, 3.0),\n",
       " (5084, 4.0),\n",
       " (1680, 4.0),\n",
       " (131, 5.0),\n",
       " (2638, 3.0),\n",
       " (4285, 4.0),\n",
       " (605, 5.0),\n",
       " (818, 4.0),\n",
       " (1957, 5.0),\n",
       " (4497, 4.0),\n",
       " (1612, 4.0),\n",
       " (2370, 5.0),\n",
       " (1045, 3.0),\n",
       " (607, 4.0),\n",
       " (138, 4.0),\n",
       " (2052, 2.0),\n",
       " (133, 3.0),\n",
       " (3040, 3.0),\n",
       " (343, 4.0),\n",
       " (195, 5.0),\n",
       " (4060, 4.0),\n",
       " (596, 5.0),\n",
       " (3176, 4.0),\n",
       " (416, 5.0),\n",
       " (7210, 4.0),\n",
       " (2568, 4.0),\n",
       " (320, 3.0),\n",
       " (1900, 4.0),\n",
       " (1249, 3.0),\n",
       " (121, 4.0),\n",
       " (6898, 3.0),\n",
       " (4190, 4.0),\n",
       " (7863, 2.0),\n",
       " (4781, 5.0),\n",
       " (938, 5.0),\n",
       " (3130, 3.0),\n",
       " (1746, 4.0),\n",
       " (2649, 4.0),\n",
       " (616, 4.0),\n",
       " (69, 4.0),\n",
       " (3073, 4.0),\n",
       " (4404, 4.0),\n",
       " (74, 4.0),\n",
       " (768, 4.0),\n",
       " (2277, 5.0),\n",
       " (291, 4.0),\n",
       " (1234, 4.0),\n",
       " (4234, 4.0),\n",
       " (405, 5.0),\n",
       " (1601, 4.0),\n",
       " (1489, 5.0),\n",
       " (2144, 4.0),\n",
       " (1007, 4.0),\n",
       " (371, 5.0),\n",
       " (1213, 4.0),\n",
       " (2667, 3.0),\n",
       " (3789, 4.0),\n",
       " (686, 3.0),\n",
       " (1051, 4.0),\n",
       " (1194, 4.0),\n",
       " (1248, 5.0),\n",
       " (1161, 4.0),\n",
       " (451, 4.0),\n",
       " (1476, 5.0),\n",
       " (1016, 5.0),\n",
       " (3824, 5.0),\n",
       " (514, 2.0),\n",
       " (705, 4.0),\n",
       " (9695, 3.0),\n",
       " (1288, 4.0),\n",
       " (516, 2.0),\n",
       " (68, 5.0),\n",
       " (6286, 4.0),\n",
       " (2510, 5.0),\n",
       " (28, 5.0),\n",
       " (787, 4.0),\n",
       " (204, 2.0),\n",
       " (2789, 4.0),\n",
       " (4016, 3.0),\n",
       " (2322, 4.0),\n",
       " (1314, 3.0),\n",
       " (2190, 3.0),\n",
       " (863, 4.0),\n",
       " (372, 4.0),\n",
       " (72, 4.0),\n",
       " (3830, 4.0),\n",
       " (4200, 3.0),\n",
       " (764, 4.0),\n",
       " (487, 4.0),\n",
       " (579, 5.0),\n",
       " (2549, 5.0),\n",
       " (2543, 4.0),\n",
       " (3228, 2.0),\n",
       " (1504, 3.0),\n",
       " (1337, 4.0),\n",
       " (3921, 4.0),\n",
       " (3770, 5.0),\n",
       " (2065, 5.0),\n",
       " (2771, 4.0),\n",
       " (7157, 4.0),\n",
       " (232, 3.0),\n",
       " (5572, 3.0),\n",
       " (1226, 5.0),\n",
       " (455, 4.0),\n",
       " (2256, 3.0),\n",
       " (453, 2.0),\n",
       " (1239, 4.0),\n",
       " (1366, 5.0),\n",
       " (13098, 5.0),\n",
       " (2009, 4.0),\n",
       " (4620, 3.0),\n",
       " (1787, 3.0),\n",
       " (2966, 4.0),\n",
       " (3520, 4.0),\n",
       " (149, 5.0),\n",
       " (3849, 2.0),\n",
       " (5258, 5.0),\n",
       " (8186, 1.0),\n",
       " (439, 4.0),\n",
       " (774, 4.0),\n",
       " (1813, 4.0),\n",
       " (854, 4.0),\n",
       " (3544, 5.0),\n",
       " (2314, 4.0),\n",
       " (2552, 3.0),\n",
       " (7050, 4.0),\n",
       " (438, 4.0),\n",
       " (4320, 4.0),\n",
       " (3380, 3.0),\n",
       " (1059, 4.0),\n",
       " (219, 3.0),\n",
       " (166, 3.0),\n",
       " (2268, 4.0),\n",
       " (1434, 4.0),\n",
       " (1159, 5.0),\n",
       " (1462, 4.0),\n",
       " (287, 3.0),\n",
       " (886, 2.0),\n",
       " (750, 5.0),\n",
       " (2131, 5.0),\n",
       " (284, 3.0),\n",
       " (1692, 4.0),\n",
       " (1384, 3.0),\n",
       " (1556, 5.0),\n",
       " (7, 4.0),\n",
       " (1859, 5.0),\n",
       " (20, 3.0),\n",
       " (555, 4.0),\n",
       " (200, 3.0),\n",
       " (1436, 4.0),\n",
       " (1738, 3.0),\n",
       " (170, 4.0),\n",
       " (571, 4.0),\n",
       " (822, 5.0),\n",
       " (2038, 4.0),\n",
       " (2034, 4.0),\n",
       " (1982, 3.0),\n",
       " (42, 3.0),\n",
       " (1246, 3.0),\n",
       " (4874, 2.0),\n",
       " (9710, 3.0),\n",
       " (3396, 4.0),\n",
       " (464, 4.0),\n",
       " (584, 4.0),\n",
       " (6259, 5.0),\n",
       " (1725, 4.0),\n",
       " (510, 4.0),\n",
       " (2371, 4.0),\n",
       " (22, 4.0),\n",
       " (2580, 4.0),\n",
       " (4476, 4.0),\n",
       " (4196, 4.0),\n",
       " (368, 4.0),\n",
       " (810, 5.0),\n",
       " (2837, 4.0),\n",
       " (1341, 4.0),\n",
       " (1917, 5.0),\n",
       " (846, 4.0),\n",
       " (4951, 4.0),\n",
       " (160, 5.0),\n",
       " (1418, 3.0),\n",
       " (424, 4.0),\n",
       " (308, 3.0),\n",
       " (1940, 5.0),\n",
       " (814, 4.0),\n",
       " (147, 4.0),\n",
       " (4446, 3.0),\n",
       " (2044, 4.0),\n",
       " (5039, 2.0),\n",
       " (1944, 3.0),\n",
       " (6337, 2.0),\n",
       " (251, 3.0),\n",
       " (583, 2.0),\n",
       " (2246, 4.0),\n",
       " (3993, 3.0),\n",
       " (597, 4.0),\n",
       " (2556, 5.0),\n",
       " (726, 3.0),\n",
       " (10228, 5.0),\n",
       " (101, 5.0),\n",
       " (2239, 2.0),\n",
       " (688, 5.0),\n",
       " (411, 3.0),\n",
       " (731, 4.0),\n",
       " (1295, 5.0),\n",
       " (4535, 4.0),\n",
       " (2800, 4.0),\n",
       " (1003, 5.0),\n",
       " (825, 4.0),\n",
       " (1058, 5.0),\n",
       " (1192, 4.0),\n",
       " (4262, 2.0),\n",
       " (852, 3.0),\n",
       " (428, 4.0),\n",
       " (2827, 4.0),\n",
       " (11358, 2.0),\n",
       " (1811, 4.0),\n",
       " (4039, 5.0),\n",
       " (743, 4.0),\n",
       " (1189, 4.0),\n",
       " (1972, 4.0),\n",
       " (1475, 5.0),\n",
       " (4209, 3.0),\n",
       " (534, 4.0),\n",
       " (552, 5.0),\n",
       " (2145, 4.0),\n",
       " (3510, 5.0),\n",
       " (724, 4.0),\n",
       " (316, 4.0),\n",
       " (15633, 3.0),\n",
       " (5218, 5.0),\n",
       " (633, 4.0),\n",
       " (220, 5.0),\n",
       " (1198, 4.0),\n",
       " (504, 4.0),\n",
       " (3095, 2.0),\n",
       " (2518, 4.0),\n",
       " (1115, 3.0),\n",
       " (1422, 4.0),\n",
       " (7201, 5.0),\n",
       " (897, 3.0),\n",
       " (2273, 4.0),\n",
       " (4147, 3.0),\n",
       " (1368, 4.0),\n",
       " (658, 4.0),\n",
       " (1753, 4.0),\n",
       " (2686, 4.0),\n",
       " (3668, 3.0),\n",
       " (3431, 3.0),\n",
       " (1819, 4.0),\n",
       " (2349, 4.0),\n",
       " (243, 4.0),\n",
       " (77, 4.0),\n",
       " (4930, 2.0),\n",
       " (2431, 3.0),\n",
       " (2369, 3.0),\n",
       " (5037, 4.0),\n",
       " (337, 5.0),\n",
       " (1581, 4.0),\n",
       " (1709, 4.0),\n",
       " (625, 5.0),\n",
       " (4611, 4.0),\n",
       " (1668, 4.0),\n",
       " (391, 3.0),\n",
       " (1217, 4.0),\n",
       " (867, 5.0),\n",
       " (835, 3.0),\n",
       " (2829, 4.0),\n",
       " (8517, 3.0),\n",
       " (1485, 3.0),\n",
       " (4225, 3.0),\n",
       " (1663, 4.0),\n",
       " (2823, 4.0),\n",
       " (2573, 4.0),\n",
       " (587, 4.0),\n",
       " (2353, 4.0),\n",
       " (1584, 4.0),\n",
       " (1023, 2.0),\n",
       " (328, 3.0),\n",
       " (94, 4.0),\n",
       " (181, 5.0),\n",
       " (227, 3.0),\n",
       " (5637, 4.0),\n",
       " (531, 4.0),\n",
       " (7846, 4.0),\n",
       " (205, 4.0),\n",
       " (586, 4.0),\n",
       " (5464, 5.0),\n",
       " (7648, 2.0),\n",
       " (657, 3.0),\n",
       " (0, 4.0),\n",
       " (3432, 5.0),\n",
       " (21, 4.0),\n",
       " (207, 3.0),\n",
       " (8772, 3.0),\n",
       " (1873, 4.0),\n",
       " (6706, 3.0),\n",
       " (1343, 4.0)]"
      ]
     },
     "execution_count": 39,
     "metadata": {},
     "output_type": "execute_result"
    }
   ],
   "source": [
    "### Using the ur method ###\n",
    "# Checking user 890's ratings \n",
    "\n",
    "train_set.ur[890]"
   ]
  },
  {
   "cell_type": "code",
   "execution_count": 40,
   "metadata": {},
   "outputs": [
    {
     "name": "stdout",
     "output_type": "stream",
     "text": [
      "RMSE: 0.9000\n"
     ]
    },
    {
     "data": {
      "text/plain": [
       "0.9000257907774956"
      ]
     },
     "execution_count": 40,
     "metadata": {},
     "output_type": "execute_result"
    }
   ],
   "source": [
    "# Calculating the RMSE of the RecSys Model:\n",
    "from surprise import accuracy\n",
    "\n",
    "accuracy.rmse(predictions)"
   ]
  },
  {
   "cell_type": "code",
   "execution_count": 43,
   "metadata": {},
   "outputs": [],
   "source": [
    "import matplotlib.pyplot as plt\n",
    "\n",
    "# List of K values for K-Nearest Neighbors\n",
    "k_values = [5, 10, 15, 20, 25]\n",
    "rmse_scores = []\n",
    "\n",
    "for k in k_values:\n",
    "    model = KNNBasic(k=k, sim_options={'name': 'cosine', 'user_based': True})\n",
    "    model.fit(train_set)\n",
    "    predictions = model.test(test_set)\n",
    "    rmse = accuracy.rmse(predictions)\n",
    "    rmse_scores.append(rmse)\n",
    "\n",
    "# Plotting\n",
    "plt.figure(figsize=(8, 4))\n",
    "plt.plot(k_values, rmse_scores, marker='o', linestyle='-', color='b')\n",
    "plt.title('RMSE vs. Number of Neighbors (K)')\n",
    "plt.xlabel('Number of Neighbors (K)')\n",
    "plt.ylabel('RMSE')\n",
    "plt.grid(True)\n",
    "plt.show()\n"
   ]
  },
  {
   "cell_type": "code",
   "execution_count": 41,
   "metadata": {},
   "outputs": [],
   "source": [
    "from surprise import SVD\n",
    "from surprise import accuracy"
   ]
  },
  {
   "cell_type": "code",
   "execution_count": 42,
   "metadata": {},
   "outputs": [
    {
     "name": "stdout",
     "output_type": "stream",
     "text": [
      "RMSE: 0.8005\n"
     ]
    },
    {
     "data": {
      "text/plain": [
       "0.8005130364986649"
      ]
     },
     "execution_count": 42,
     "metadata": {},
     "output_type": "execute_result"
    }
   ],
   "source": [
    "svd_recommender = SVD()\n",
    "svd_recommender.fit(train_set)\n",
    "\n",
    "svd_predictions = svd_recommender.test(test_set)\n",
    "\n",
    "accuracy.rmse(svd_predictions)"
   ]
  }
 ],
 "metadata": {
  "kernelspec": {
   "display_name": "base",
   "language": "python",
   "name": "python3"
  },
  "language_info": {
   "codemirror_mode": {
    "name": "ipython",
    "version": 3
   },
   "file_extension": ".py",
   "mimetype": "text/x-python",
   "name": "python",
   "nbconvert_exporter": "python",
   "pygments_lexer": "ipython3",
   "version": "3.11.5"
  }
 },
 "nbformat": 4,
 "nbformat_minor": 2
}
