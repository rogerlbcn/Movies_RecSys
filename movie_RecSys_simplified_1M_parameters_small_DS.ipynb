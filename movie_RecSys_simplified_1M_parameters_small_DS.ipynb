{
 "cells": [
  {
   "cell_type": "markdown",
   "metadata": {},
   "source": [
    "# Movies RecSys\n",
    "\n",
    "Recommender System implemented by Roger Lopez Benet  \n",
    "Tuesday, May 21st, 2024  \n",
    "San Francisco, CA"
   ]
  },
  {
   "cell_type": "markdown",
   "metadata": {},
   "source": [
    "### Overview: \n",
    "\n",
    "In this notebook, I firt imported a subset of the orginal dataset, representing a 4% (used 1M out of a total of 25M obervations)\n",
    "The goal, as explained in the README file in this repository, is to create a Recommender System that given historical data on  22.7 million unique users, is capable and does make personalized recommendations to the user.\n",
    "\n",
    "In this case, I have added a couple of cells at the end that lets the user to input their favorite movies, and the model will get help from this first input in order to avoid a cold start. \n",
    "\n",
    "A different approach, which could be taken is to basically add each new user together with their favorite movies to the existing dataset, and basically get the RecSys to make recommendations based on that. This last option is more straight forward, and definetely somethign to try out. "
   ]
  },
  {
   "cell_type": "code",
   "execution_count": 3,
   "metadata": {},
   "outputs": [],
   "source": [
    "import pandas as pd\n",
    "from surprise import Reader"
   ]
  },
  {
   "cell_type": "markdown",
   "metadata": {},
   "source": [
    "I tried to join most of the datasets, in order to build a more robust recommender but my kernel kept crushing (NOTE: Currently using my M2 Mac Pro, which should be able a lot). \n",
    "I could have used my other more powerful GPUs such as the T4 GPU + high ram, on Google Colab. For this RecSys I decided to keep it simple and local, so I had to adjust the complexity of the system. "
   ]
  },
  {
   "cell_type": "code",
   "execution_count": 4,
   "metadata": {},
   "outputs": [],
   "source": [
    "file_path1 = '/Users/rogerlbcn/Library/CloudStorage/OneDrive-Personal/Python_Projects/Movies_RecSys_GENERAL/ml-25m/ratings.csv'\n",
    "file_path2 = '/Users/rogerlbcn/Library/CloudStorage/OneDrive-Personal/Python_Projects/Movies_RecSys_GENERAL/ml-25m/movies.csv'\n",
    "\n",
    "# ratings_df = pd.read_csv(file_path2, nrows=1000000) # NOTE: The kernel doesn't crush with 1M observations\n",
    "ratings_df = pd.read_csv(file_path1, nrows=1000000) # Using 1 Million observations\n",
    "movies_df = pd.read_csv(file_path2, nrows=1000000) # Using 1 Million observations"
   ]
  },
  {
   "cell_type": "markdown",
   "metadata": {},
   "source": [
    "## Inspecting dataset\n",
    "\n",
    "In the following cells, we will inspect the dataset/s to see the data distribution, understand each of the variables, and address missing values if any. After this step we will pass on to the next phase, model implementation and training. "
   ]
  },
  {
   "cell_type": "code",
   "execution_count": 5,
   "metadata": {},
   "outputs": [
    {
     "data": {
      "text/html": [
       "<div>\n",
       "<style scoped>\n",
       "    .dataframe tbody tr th:only-of-type {\n",
       "        vertical-align: middle;\n",
       "    }\n",
       "\n",
       "    .dataframe tbody tr th {\n",
       "        vertical-align: top;\n",
       "    }\n",
       "\n",
       "    .dataframe thead th {\n",
       "        text-align: right;\n",
       "    }\n",
       "</style>\n",
       "<table border=\"1\" class=\"dataframe\">\n",
       "  <thead>\n",
       "    <tr style=\"text-align: right;\">\n",
       "      <th></th>\n",
       "      <th>userId</th>\n",
       "      <th>movieId</th>\n",
       "      <th>rating</th>\n",
       "      <th>timestamp</th>\n",
       "    </tr>\n",
       "  </thead>\n",
       "  <tbody>\n",
       "    <tr>\n",
       "      <th>0</th>\n",
       "      <td>1</td>\n",
       "      <td>296</td>\n",
       "      <td>5.0</td>\n",
       "      <td>1147880044</td>\n",
       "    </tr>\n",
       "    <tr>\n",
       "      <th>1</th>\n",
       "      <td>1</td>\n",
       "      <td>306</td>\n",
       "      <td>3.5</td>\n",
       "      <td>1147868817</td>\n",
       "    </tr>\n",
       "    <tr>\n",
       "      <th>2</th>\n",
       "      <td>1</td>\n",
       "      <td>307</td>\n",
       "      <td>5.0</td>\n",
       "      <td>1147868828</td>\n",
       "    </tr>\n",
       "    <tr>\n",
       "      <th>3</th>\n",
       "      <td>1</td>\n",
       "      <td>665</td>\n",
       "      <td>5.0</td>\n",
       "      <td>1147878820</td>\n",
       "    </tr>\n",
       "    <tr>\n",
       "      <th>4</th>\n",
       "      <td>1</td>\n",
       "      <td>899</td>\n",
       "      <td>3.5</td>\n",
       "      <td>1147868510</td>\n",
       "    </tr>\n",
       "    <tr>\n",
       "      <th>...</th>\n",
       "      <td>...</td>\n",
       "      <td>...</td>\n",
       "      <td>...</td>\n",
       "      <td>...</td>\n",
       "    </tr>\n",
       "    <tr>\n",
       "      <th>999995</th>\n",
       "      <td>6747</td>\n",
       "      <td>3566</td>\n",
       "      <td>2.0</td>\n",
       "      <td>1008568732</td>\n",
       "    </tr>\n",
       "    <tr>\n",
       "      <th>999996</th>\n",
       "      <td>6747</td>\n",
       "      <td>3578</td>\n",
       "      <td>5.0</td>\n",
       "      <td>998488633</td>\n",
       "    </tr>\n",
       "    <tr>\n",
       "      <th>999997</th>\n",
       "      <td>6747</td>\n",
       "      <td>3593</td>\n",
       "      <td>2.0</td>\n",
       "      <td>997996934</td>\n",
       "    </tr>\n",
       "    <tr>\n",
       "      <th>999998</th>\n",
       "      <td>6747</td>\n",
       "      <td>3615</td>\n",
       "      <td>4.0</td>\n",
       "      <td>998592422</td>\n",
       "    </tr>\n",
       "    <tr>\n",
       "      <th>999999</th>\n",
       "      <td>6747</td>\n",
       "      <td>3623</td>\n",
       "      <td>5.0</td>\n",
       "      <td>997996257</td>\n",
       "    </tr>\n",
       "  </tbody>\n",
       "</table>\n",
       "<p>1000000 rows × 4 columns</p>\n",
       "</div>"
      ],
      "text/plain": [
       "        userId  movieId  rating   timestamp\n",
       "0            1      296     5.0  1147880044\n",
       "1            1      306     3.5  1147868817\n",
       "2            1      307     5.0  1147868828\n",
       "3            1      665     5.0  1147878820\n",
       "4            1      899     3.5  1147868510\n",
       "...        ...      ...     ...         ...\n",
       "999995    6747     3566     2.0  1008568732\n",
       "999996    6747     3578     5.0   998488633\n",
       "999997    6747     3593     2.0   997996934\n",
       "999998    6747     3615     4.0   998592422\n",
       "999999    6747     3623     5.0   997996257\n",
       "\n",
       "[1000000 rows x 4 columns]"
      ]
     },
     "execution_count": 5,
     "metadata": {},
     "output_type": "execute_result"
    }
   ],
   "source": [
    "ratings_df"
   ]
  },
  {
   "cell_type": "code",
   "execution_count": 6,
   "metadata": {},
   "outputs": [
    {
     "data": {
      "text/plain": [
       "userId       1000000\n",
       "movieId      1000000\n",
       "rating       1000000\n",
       "timestamp    1000000\n",
       "dtype: int64"
      ]
     },
     "execution_count": 6,
     "metadata": {},
     "output_type": "execute_result"
    }
   ],
   "source": [
    "rating_count = ratings_df.count()\n",
    "rating_count\n"
   ]
  },
  {
   "cell_type": "code",
   "execution_count": 7,
   "metadata": {},
   "outputs": [
    {
     "data": {
      "text/plain": [
       "userId       0\n",
       "movieId      0\n",
       "rating       0\n",
       "timestamp    0\n",
       "dtype: int64"
      ]
     },
     "execution_count": 7,
     "metadata": {},
     "output_type": "execute_result"
    }
   ],
   "source": [
    "ratings_df.isnull().sum()"
   ]
  },
  {
   "cell_type": "code",
   "execution_count": 8,
   "metadata": {},
   "outputs": [],
   "source": [
    "ratings_df = ratings_df.drop(columns=['timestamp'])  # Features excluding 'movieId'"
   ]
  },
  {
   "cell_type": "code",
   "execution_count": 9,
   "metadata": {},
   "outputs": [
    {
     "data": {
      "text/html": [
       "<div>\n",
       "<style scoped>\n",
       "    .dataframe tbody tr th:only-of-type {\n",
       "        vertical-align: middle;\n",
       "    }\n",
       "\n",
       "    .dataframe tbody tr th {\n",
       "        vertical-align: top;\n",
       "    }\n",
       "\n",
       "    .dataframe thead th {\n",
       "        text-align: right;\n",
       "    }\n",
       "</style>\n",
       "<table border=\"1\" class=\"dataframe\">\n",
       "  <thead>\n",
       "    <tr style=\"text-align: right;\">\n",
       "      <th></th>\n",
       "      <th>userId</th>\n",
       "      <th>movieId</th>\n",
       "      <th>rating</th>\n",
       "    </tr>\n",
       "  </thead>\n",
       "  <tbody>\n",
       "    <tr>\n",
       "      <th>0</th>\n",
       "      <td>1</td>\n",
       "      <td>296</td>\n",
       "      <td>5.0</td>\n",
       "    </tr>\n",
       "    <tr>\n",
       "      <th>1</th>\n",
       "      <td>1</td>\n",
       "      <td>306</td>\n",
       "      <td>3.5</td>\n",
       "    </tr>\n",
       "    <tr>\n",
       "      <th>2</th>\n",
       "      <td>1</td>\n",
       "      <td>307</td>\n",
       "      <td>5.0</td>\n",
       "    </tr>\n",
       "    <tr>\n",
       "      <th>3</th>\n",
       "      <td>1</td>\n",
       "      <td>665</td>\n",
       "      <td>5.0</td>\n",
       "    </tr>\n",
       "    <tr>\n",
       "      <th>4</th>\n",
       "      <td>1</td>\n",
       "      <td>899</td>\n",
       "      <td>3.5</td>\n",
       "    </tr>\n",
       "    <tr>\n",
       "      <th>...</th>\n",
       "      <td>...</td>\n",
       "      <td>...</td>\n",
       "      <td>...</td>\n",
       "    </tr>\n",
       "    <tr>\n",
       "      <th>999995</th>\n",
       "      <td>6747</td>\n",
       "      <td>3566</td>\n",
       "      <td>2.0</td>\n",
       "    </tr>\n",
       "    <tr>\n",
       "      <th>999996</th>\n",
       "      <td>6747</td>\n",
       "      <td>3578</td>\n",
       "      <td>5.0</td>\n",
       "    </tr>\n",
       "    <tr>\n",
       "      <th>999997</th>\n",
       "      <td>6747</td>\n",
       "      <td>3593</td>\n",
       "      <td>2.0</td>\n",
       "    </tr>\n",
       "    <tr>\n",
       "      <th>999998</th>\n",
       "      <td>6747</td>\n",
       "      <td>3615</td>\n",
       "      <td>4.0</td>\n",
       "    </tr>\n",
       "    <tr>\n",
       "      <th>999999</th>\n",
       "      <td>6747</td>\n",
       "      <td>3623</td>\n",
       "      <td>5.0</td>\n",
       "    </tr>\n",
       "  </tbody>\n",
       "</table>\n",
       "<p>1000000 rows × 3 columns</p>\n",
       "</div>"
      ],
      "text/plain": [
       "        userId  movieId  rating\n",
       "0            1      296     5.0\n",
       "1            1      306     3.5\n",
       "2            1      307     5.0\n",
       "3            1      665     5.0\n",
       "4            1      899     3.5\n",
       "...        ...      ...     ...\n",
       "999995    6747     3566     2.0\n",
       "999996    6747     3578     5.0\n",
       "999997    6747     3593     2.0\n",
       "999998    6747     3615     4.0\n",
       "999999    6747     3623     5.0\n",
       "\n",
       "[1000000 rows x 3 columns]"
      ]
     },
     "execution_count": 9,
     "metadata": {},
     "output_type": "execute_result"
    }
   ],
   "source": [
    "ratings_df"
   ]
  },
  {
   "cell_type": "code",
   "execution_count": 10,
   "metadata": {},
   "outputs": [
    {
     "name": "stdout",
     "output_type": "stream",
     "text": [
      "<class 'pandas.core.frame.DataFrame'>\n",
      "RangeIndex: 1000000 entries, 0 to 999999\n",
      "Data columns (total 3 columns):\n",
      " #   Column   Non-Null Count    Dtype  \n",
      "---  ------   --------------    -----  \n",
      " 0   userId   1000000 non-null  int64  \n",
      " 1   movieId  1000000 non-null  int64  \n",
      " 2   rating   1000000 non-null  float64\n",
      "dtypes: float64(1), int64(2)\n",
      "memory usage: 22.9 MB\n"
     ]
    }
   ],
   "source": [
    "ratings_df.info()"
   ]
  },
  {
   "cell_type": "code",
   "execution_count": 11,
   "metadata": {},
   "outputs": [
    {
     "data": {
      "text/html": [
       "<div>\n",
       "<style scoped>\n",
       "    .dataframe tbody tr th:only-of-type {\n",
       "        vertical-align: middle;\n",
       "    }\n",
       "\n",
       "    .dataframe tbody tr th {\n",
       "        vertical-align: top;\n",
       "    }\n",
       "\n",
       "    .dataframe thead th {\n",
       "        text-align: right;\n",
       "    }\n",
       "</style>\n",
       "<table border=\"1\" class=\"dataframe\">\n",
       "  <thead>\n",
       "    <tr style=\"text-align: right;\">\n",
       "      <th></th>\n",
       "      <th>userId</th>\n",
       "      <th>movieId</th>\n",
       "      <th>rating</th>\n",
       "    </tr>\n",
       "  </thead>\n",
       "  <tbody>\n",
       "    <tr>\n",
       "      <th>count</th>\n",
       "      <td>1000000.000000</td>\n",
       "      <td>1000000.000000</td>\n",
       "      <td>1000000.000000</td>\n",
       "    </tr>\n",
       "    <tr>\n",
       "      <th>mean</th>\n",
       "      <td>3414.023267</td>\n",
       "      <td>21108.987256</td>\n",
       "      <td>3.532902</td>\n",
       "    </tr>\n",
       "    <tr>\n",
       "      <th>std</th>\n",
       "      <td>1924.322666</td>\n",
       "      <td>39075.605217</td>\n",
       "      <td>1.057824</td>\n",
       "    </tr>\n",
       "    <tr>\n",
       "      <th>min</th>\n",
       "      <td>1.000000</td>\n",
       "      <td>1.000000</td>\n",
       "      <td>0.500000</td>\n",
       "    </tr>\n",
       "    <tr>\n",
       "      <th>25%</th>\n",
       "      <td>1751.000000</td>\n",
       "      <td>1136.000000</td>\n",
       "      <td>3.000000</td>\n",
       "    </tr>\n",
       "    <tr>\n",
       "      <th>50%</th>\n",
       "      <td>3445.000000</td>\n",
       "      <td>2826.000000</td>\n",
       "      <td>3.500000</td>\n",
       "    </tr>\n",
       "    <tr>\n",
       "      <th>75%</th>\n",
       "      <td>5108.000000</td>\n",
       "      <td>8370.000000</td>\n",
       "      <td>4.000000</td>\n",
       "    </tr>\n",
       "    <tr>\n",
       "      <th>max</th>\n",
       "      <td>6747.000000</td>\n",
       "      <td>208939.000000</td>\n",
       "      <td>5.000000</td>\n",
       "    </tr>\n",
       "  </tbody>\n",
       "</table>\n",
       "</div>"
      ],
      "text/plain": [
       "               userId         movieId          rating\n",
       "count  1000000.000000  1000000.000000  1000000.000000\n",
       "mean      3414.023267    21108.987256        3.532902\n",
       "std       1924.322666    39075.605217        1.057824\n",
       "min          1.000000        1.000000        0.500000\n",
       "25%       1751.000000     1136.000000        3.000000\n",
       "50%       3445.000000     2826.000000        3.500000\n",
       "75%       5108.000000     8370.000000        4.000000\n",
       "max       6747.000000   208939.000000        5.000000"
      ]
     },
     "execution_count": 11,
     "metadata": {},
     "output_type": "execute_result"
    }
   ],
   "source": [
    "ratings_df.describe()"
   ]
  },
  {
   "cell_type": "code",
   "execution_count": 12,
   "metadata": {},
   "outputs": [
    {
     "data": {
      "text/plain": [
       "array([5. , 3.5, 4. , 2.5, 4.5, 3. , 0.5, 2. , 1. , 1.5])"
      ]
     },
     "execution_count": 12,
     "metadata": {},
     "output_type": "execute_result"
    }
   ],
   "source": [
    "ratings_df['rating'].unique()"
   ]
  },
  {
   "cell_type": "code",
   "execution_count": 13,
   "metadata": {},
   "outputs": [
    {
     "name": "stdout",
     "output_type": "stream",
     "text": [
      "userId\n",
      "movieId\n",
      "rating\n"
     ]
    }
   ],
   "source": [
    "for i in ratings_df:\n",
    "    print(i)"
   ]
  },
  {
   "cell_type": "code",
   "execution_count": 14,
   "metadata": {},
   "outputs": [],
   "source": [
    "from surprise import Dataset\n",
    "from surprise import Reader\n",
    "\n",
    "# Define a Reader object specifying the rating scale\n",
    "reader = Reader(rating_scale=(0, 5))  # Assuming your ratings range from 1 to 5\n",
    "\n",
    "data = Dataset.load_from_df(ratings_df[['userId', 'movieId', 'rating']], reader)"
   ]
  },
  {
   "cell_type": "code",
   "execution_count": 15,
   "metadata": {},
   "outputs": [
    {
     "data": {
      "text/plain": [
       "<surprise.dataset.DatasetAutoFolds at 0x12a8d7910>"
      ]
     },
     "execution_count": 15,
     "metadata": {},
     "output_type": "execute_result"
    }
   ],
   "source": [
    "data"
   ]
  },
  {
   "cell_type": "code",
   "execution_count": 16,
   "metadata": {},
   "outputs": [
    {
     "data": {
      "text/plain": [
       "1000000"
      ]
     },
     "execution_count": 16,
     "metadata": {},
     "output_type": "execute_result"
    }
   ],
   "source": [
    "len(ratings_df)"
   ]
  },
  {
   "cell_type": "markdown",
   "metadata": {},
   "source": [
    "The Following ratings histogram is skewed to the right. This gives us a sense of how users in our `ratings_df` dataset, tend to rate movies. This could be due to a couple of things.\n",
    "1. The movies collected are generally the most popular ones\n",
    "\n",
    "    **OR**\n",
    "\n",
    "2. Users tend to rate movies higher than lower. \n",
    "\n",
    "Since our recommender could be impacted by this dynamic, I went ahead and also inspected the `movies_df` dataset to see what movies the DS has. Most of them correspond were released in the last century, quite old, and besides some classics like Jumanji or Starwars, I haven't really heard of the rest. Therefore we'll make the assumption that users tend to rate movies high. This will help us later on understand the findings better. "
   ]
  },
  {
   "cell_type": "code",
   "execution_count": 17,
   "metadata": {},
   "outputs": [
    {
     "data": {
      "image/png": "[encoded data removed]",
      "text/plain": [
       "<Figure size 640x480 with 1 Axes>"
      ]
     },
     "metadata": {},
     "output_type": "display_data"
    }
   ],
   "source": [
    "import matplotlib.pyplot as plt\n",
    "\n",
    "ratings_df['rating'].plot(kind='hist', bins=10, edgecolor='black')\n",
    "plt.title('Distribution of Ratings')\n",
    "plt.xlabel('Rating')\n",
    "plt.ylabel('Frequency')\n",
    "plt.show()\n"
   ]
  },
  {
   "cell_type": "markdown",
   "metadata": {},
   "source": [
    "## Train-test split\n",
    "\n",
    "Getting the `ratings_df` dataset (the only one that we'll use to train the model) ready by splitting the data the following way: train_set (80%) and test_set (20%)."
   ]
  },
  {
   "cell_type": "code",
   "execution_count": 18,
   "metadata": {},
   "outputs": [],
   "source": [
    "from surprise.model_selection import train_test_split\n",
    "\n",
    "train_set, test_set = train_test_split(data, test_size=0.2, random_state=42)\n",
    "\n"
   ]
  },
  {
   "cell_type": "markdown",
   "metadata": {},
   "source": [
    "## Creating and fitting the model (`KNNBasic`)"
   ]
  },
  {
   "cell_type": "markdown",
   "metadata": {},
   "source": [
    "Observations: \n",
    "- In a different notebook, 5M oversvations were used, for this same model, `KNNBasic`. It took the model 13 min 47 sec to run, but its performance didn't significantly improve. Therefore, I decided to use a 1M subset of the 5M subset, since the original dataset is formed by 25M of these. "
   ]
  },
  {
   "cell_type": "code",
   "execution_count": 19,
   "metadata": {},
   "outputs": [
    {
     "name": "stdout",
     "output_type": "stream",
     "text": [
      "Computing the cosine similarity matrix...\n",
      "Done computing similarity matrix.\n"
     ]
    },
    {
     "data": {
      "text/plain": [
       "<surprise.prediction_algorithms.knns.KNNBasic at 0x317b6ded0>"
      ]
     },
     "execution_count": 19,
     "metadata": {},
     "output_type": "execute_result"
    }
   ],
   "source": [
    "from surprise import KNNBasic\n",
    "\n",
    "# Define similarity options\n",
    "sim_options = {\n",
    "    'name': 'cosine',       # Use cosine similarity\n",
    "    'user_based': False,    # Compute item-item similarity\n",
    "    'min_support': 5        # Minimum number of common ratings\n",
    "}\n",
    "\n",
    "# Initialize the model \n",
    "model_1 = KNNBasic(k = 20, \n",
    "                   min_k = 5, \n",
    "                   sim_options = sim_options, \n",
    "                   verbose = True)\n",
    "\n",
    "# Train the model on the training set\n",
    "model_1.fit(train_set)\n"
   ]
  },
  {
   "cell_type": "markdown",
   "metadata": {},
   "source": [
    "## Creating predictions on the test set"
   ]
  },
  {
   "cell_type": "code",
   "execution_count": 20,
   "metadata": {},
   "outputs": [
    {
     "data": {
      "text/plain": [
       "[Prediction(uid=102, iid=4571, r_ui=4.5, est=4.2994047991649005, details={'actual_k': 20, 'was_impossible': False}),\n",
       " Prediction(uid=2401, iid=21, r_ui=4.0, est=4.075308200669512, details={'actual_k': 20, 'was_impossible': False}),\n",
       " Prediction(uid=2469, iid=40583, r_ui=3.5, est=3.3503686084454545, details={'actual_k': 20, 'was_impossible': False}),\n",
       " Prediction(uid=5588, iid=6242, r_ui=4.0, est=4.050536032347512, details={'actual_k': 20, 'was_impossible': False}),\n",
       " Prediction(uid=462, iid=5464, r_ui=3.5, est=3.574998666936551, details={'actual_k': 20, 'was_impossible': False})]"
      ]
     },
     "execution_count": 20,
     "metadata": {},
     "output_type": "execute_result"
    }
   ],
   "source": [
    "# Creating some predicitons on the test set:\n",
    "\n",
    "predictions = model_1.test(test_set)\n",
    "predictions[:5] # showing the first 5"
   ]
  },
  {
   "cell_type": "markdown",
   "metadata": {},
   "source": [
    "In the following cell, we have inputed the `userId`: #890. When we run it we get all the ratings and their movie IDs, this user has made. "
   ]
  },
  {
   "cell_type": "code",
   "execution_count": 21,
   "metadata": {},
   "outputs": [
    {
     "data": {
      "text/plain": [
       "[(733, 4.0),\n",
       " (1159, 3.0),\n",
       " (2698, 3.0),\n",
       " (1040, 4.0),\n",
       " (226, 4.0),\n",
       " (1869, 3.0),\n",
       " (56, 3.0),\n",
       " (2570, 3.0),\n",
       " (1856, 3.0),\n",
       " (22, 3.0),\n",
       " (591, 3.0),\n",
       " (723, 2.0),\n",
       " (2703, 5.0),\n",
       " (428, 4.0),\n",
       " (656, 4.0),\n",
       " (4167, 4.0),\n",
       " (3159, 3.0),\n",
       " (3603, 3.0),\n",
       " (1783, 3.0),\n",
       " (1734, 3.0),\n",
       " (2683, 3.0),\n",
       " (1770, 4.0),\n",
       " (2998, 3.0),\n",
       " (2043, 3.0),\n",
       " (775, 3.0),\n",
       " (3535, 4.0),\n",
       " (774, 3.0),\n",
       " (99, 3.0),\n",
       " (14, 3.0),\n",
       " (638, 3.0),\n",
       " (1786, 3.0),\n",
       " (1975, 3.0),\n",
       " (668, 3.0),\n",
       " (810, 2.0),\n",
       " (885, 3.0),\n",
       " (155, 3.0),\n",
       " (912, 3.0),\n",
       " (224, 3.0),\n",
       " (1507, 3.0),\n",
       " (838, 4.0),\n",
       " (640, 3.0),\n",
       " (658, 4.0),\n",
       " (445, 3.0),\n",
       " (725, 4.0),\n",
       " (1150, 3.0),\n",
       " (695, 2.0),\n",
       " (471, 4.0),\n",
       " (4643, 3.0),\n",
       " (1094, 4.0),\n",
       " (869, 3.0),\n",
       " (813, 3.0),\n",
       " (324, 3.0),\n",
       " (404, 4.0),\n",
       " (636, 3.0),\n",
       " (881, 3.0),\n",
       " (1289, 3.0),\n",
       " (328, 4.0),\n",
       " (574, 3.0),\n",
       " (477, 3.0),\n",
       " (1208, 5.0),\n",
       " (81, 3.0),\n",
       " (291, 3.0),\n",
       " (4455, 4.0),\n",
       " (1581, 3.0),\n",
       " (264, 3.0),\n",
       " (77, 3.0),\n",
       " (45, 3.0),\n",
       " (4375, 3.0),\n",
       " (1490, 4.0)]"
      ]
     },
     "execution_count": 21,
     "metadata": {},
     "output_type": "execute_result"
    }
   ],
   "source": [
    "### Using the ur method ###\n",
    "# Checking user 890's ratings \n",
    "\n",
    "train_set.ur[890]"
   ]
  },
  {
   "cell_type": "code",
   "execution_count": 22,
   "metadata": {},
   "outputs": [
    {
     "name": "stdout",
     "output_type": "stream",
     "text": [
      "RMSE: 0.9284\n"
     ]
    },
    {
     "data": {
      "text/plain": [
       "0.9284291171136813"
      ]
     },
     "execution_count": 22,
     "metadata": {},
     "output_type": "execute_result"
    }
   ],
   "source": [
    "# Calculating the RMSE of the RecSys Model:\n",
    "from surprise import accuracy\n",
    "\n",
    "accuracy.rmse(predictions)"
   ]
  },
  {
   "cell_type": "code",
   "execution_count": 23,
   "metadata": {},
   "outputs": [
    {
     "name": "stdout",
     "output_type": "stream",
     "text": [
      "Test RMSE: 0.9265781436414785\n",
      "        userId  movieId                                         title  rating  \\\n",
      "0          102     4571       Bill & Ted's Excellent Adventure (1989)     4.5   \n",
      "1         1831     4571       Bill & Ted's Excellent Adventure (1989)     5.0   \n",
      "2         1273     4571       Bill & Ted's Excellent Adventure (1989)     4.0   \n",
      "3         3049     4571       Bill & Ted's Excellent Adventure (1989)     4.0   \n",
      "4         4053     4571       Bill & Ted's Excellent Adventure (1989)     4.0   \n",
      "...        ...      ...                                           ...     ...   \n",
      "198390    6543     2276      Soldier's Daughter Never Cries, A (1998)     4.0   \n",
      "198391    5659    79029                Kurt Cobain About a Son (2006)     3.0   \n",
      "198392    2003    52413  Ulysses' Gaze (To Vlemma tou Odyssea) (1995)     4.0   \n",
      "198393    3150   173879                           Shimmer Lake (2017)     3.5   \n",
      "198394     653     5733              Eyewitness (Janitor, The) (1981)     4.0   \n",
      "\n",
      "        predicted_rating  \n",
      "0               4.299405  \n",
      "1               3.750364  \n",
      "2               3.727486  \n",
      "3               3.800395  \n",
      "4               3.649144  \n",
      "...                  ...  \n",
      "198390          3.532606  \n",
      "198391          3.532606  \n",
      "198392          3.532606  \n",
      "198393          3.532606  \n",
      "198394          3.532606  \n",
      "\n",
      "[198395 rows x 5 columns]\n"
     ]
    }
   ],
   "source": [
    "# Convert test_set to a list of tuples (user, item, rating)\n",
    "test_ratings = [(uid, iid, true_r) for uid, iid, true_r in test_set if uid in train_set._raw2inner_id_users and iid in train_set._raw2inner_id_items]\n",
    "test_df = pd.DataFrame(test_ratings, columns=['userId', 'movieId', 'rating'])\n",
    "\n",
    "# Predict ratings for test set\n",
    "test_df['predicted_rating'] = test_df.apply(lambda x: model_1.predict(x['userId'], x['movieId']).est, axis=1)\n",
    "\n",
    "# Merge with movie names\n",
    "test_df = pd.merge(test_df, movies_df, on='movieId')\n",
    "\n",
    "from sklearn.metrics import mean_squared_error\n",
    "import numpy as np\n",
    "\n",
    "# Evaluate the model\n",
    "rmse = np.sqrt(mean_squared_error(test_df['rating'], test_df['predicted_rating']))\n",
    "print(f'Test RMSE: {rmse}')\n",
    "\n",
    "# Display the results with movie names\n",
    "print(test_df[['userId', 'movieId', 'title', 'rating', 'predicted_rating']])"
   ]
  },
  {
   "cell_type": "code",
   "execution_count": 24,
   "metadata": {},
   "outputs": [
    {
     "name": "stdout",
     "output_type": "stream",
     "text": [
      "Test RMSE: 0.9265781436414785\n",
      "        userId  movieId                                         title  rating  \\\n",
      "0          102     4571       Bill & Ted's Excellent Adventure (1989)     4.5   \n",
      "1         1831     4571       Bill & Ted's Excellent Adventure (1989)     5.0   \n",
      "2         1273     4571       Bill & Ted's Excellent Adventure (1989)     4.0   \n",
      "3         3049     4571       Bill & Ted's Excellent Adventure (1989)     4.0   \n",
      "4         4053     4571       Bill & Ted's Excellent Adventure (1989)     4.0   \n",
      "...        ...      ...                                           ...     ...   \n",
      "198390    6543     2276      Soldier's Daughter Never Cries, A (1998)     4.0   \n",
      "198391    5659    79029                Kurt Cobain About a Son (2006)     3.0   \n",
      "198392    2003    52413  Ulysses' Gaze (To Vlemma tou Odyssea) (1995)     4.0   \n",
      "198393    3150   173879                           Shimmer Lake (2017)     3.5   \n",
      "198394     653     5733              Eyewitness (Janitor, The) (1981)     4.0   \n",
      "\n",
      "        predicted_rating  \n",
      "0               4.299405  \n",
      "1               3.750364  \n",
      "2               3.727486  \n",
      "3               3.800395  \n",
      "4               3.649144  \n",
      "...                  ...  \n",
      "198390          3.532606  \n",
      "198391          3.532606  \n",
      "198392          3.532606  \n",
      "198393          3.532606  \n",
      "198394          3.532606  \n",
      "\n",
      "[198395 rows x 5 columns]\n"
     ]
    }
   ],
   "source": [
    "# Convert test_set to a list of tuples (user, item, rating)\n",
    "test_ratings = [(uid, iid, true_r) for uid, iid, true_r in test_set if uid in train_set._raw2inner_id_users and iid in train_set._raw2inner_id_items]\n",
    "test_df = pd.DataFrame(test_ratings, columns=['userId', 'movieId', 'rating'])\n",
    "\n",
    "# Predict ratings for test set\n",
    "test_df['predicted_rating'] = test_df.apply(lambda x: model_1.predict(x['userId'], x['movieId']).est, axis=1)\n",
    "\n",
    "# Merge with movie names\n",
    "test_df = pd.merge(test_df, movies_df, on='movieId')\n",
    "\n",
    "# Evaluate the model\n",
    "rmse = np.sqrt(mean_squared_error(test_df['rating'], test_df['predicted_rating']))\n",
    "print(f'Test RMSE: {rmse}')\n",
    "\n",
    "# Display the results with movie names\n",
    "print(test_df[['userId', 'movieId', 'title', 'rating', 'predicted_rating']])"
   ]
  },
  {
   "cell_type": "markdown",
   "metadata": {},
   "source": [
    "## Plotting the `model` (KNNBasic)"
   ]
  },
  {
   "cell_type": "markdown",
   "metadata": {},
   "source": [
    "There is no sign of overfitting at this point. "
   ]
  },
  {
   "cell_type": "code",
   "execution_count": 25,
   "metadata": {},
   "outputs": [
    {
     "name": "stdout",
     "output_type": "stream",
     "text": [
      "Computing the cosine similarity matrix...\n",
      "Done computing similarity matrix.\n",
      "RMSE: 1.0573\n",
      "Computing the cosine similarity matrix...\n",
      "Done computing similarity matrix.\n",
      "RMSE: 1.0086\n",
      "Computing the cosine similarity matrix...\n",
      "Done computing similarity matrix.\n",
      "RMSE: 0.9914\n",
      "Computing the cosine similarity matrix...\n",
      "Done computing similarity matrix.\n",
      "RMSE: 0.9826\n"
     ]
    },
    {
     "data": {
      "image/png": "[encoded data removed]",
      "text/plain": [
       "<Figure size 800x400 with 1 Axes>"
      ]
     },
     "metadata": {},
     "output_type": "display_data"
    }
   ],
   "source": [
    "import matplotlib.pyplot as plt\n",
    "\n",
    "# List of K values for K-Nearest Neighbors\n",
    "# k_values = [5, 10, 15, 20, 25]\n",
    "k_values = list(range(5, 25, 5))  # Testing K values from 5 to 50 with a step of 5\n",
    "rmse_scores = []\n",
    "\n",
    "for k in k_values:\n",
    "    model_1 = KNNBasic(k=k, sim_options={'name': 'cosine', 'user_based': True})\n",
    "    model_1.fit(train_set)\n",
    "    predictions = model_1.test(test_set)\n",
    "    rmse = accuracy.rmse(predictions)\n",
    "    rmse_scores.append(rmse)\n",
    "\n",
    "# Plotting\n",
    "plt.figure(figsize=(8, 4))\n",
    "plt.plot(k_values, rmse_scores, marker='o', linestyle='-', color='b')\n",
    "plt.title('RMSE vs. Number of Neighbors (K)')\n",
    "plt.xlabel('Number of Neighbors (K)')\n",
    "plt.ylabel('RMSE')\n",
    "plt.grid(True)\n",
    "plt.show()\n"
   ]
  },
  {
   "cell_type": "markdown",
   "metadata": {},
   "source": [
    "## Confusion matrix:\n",
    "\n",
    "The following is a Confusion matrix, which is not appropiate for this type of models, since it's not classification. That said, even though that's the case, it gives us a good understanding of how effective our model is and how it performs. \n"
   ]
  },
  {
   "cell_type": "code",
   "execution_count": 26,
   "metadata": {},
   "outputs": [
    {
     "data": {
      "image/png": "[encoded data removed]",
      "text/plain": [
       "<Figure size 800x600 with 2 Axes>"
      ]
     },
     "metadata": {},
     "output_type": "display_data"
    }
   ],
   "source": [
    "import numpy as np\n",
    "import matplotlib.pyplot as plt\n",
    "import seaborn as sns\n",
    "from sklearn.metrics import confusion_matrix\n",
    "\n",
    "# Sample predictions\n",
    "# predictions = [(uid, iid, true_r, est, _) for your data]\n",
    "\n",
    "# Binarize the ratings (threshold set to 3.5 for relevant/irrelevant classification)\n",
    "threshold = 3.5\n",
    "y_true = np.array([1 if true_r >= threshold else 0 for (_, _, true_r, _, _) in predictions])\n",
    "y_pred = np.array([1 if est >= threshold else 0 for (_, _, _, est, _) in predictions])\n",
    "\n",
    "# Calculate the confusion matrix\n",
    "conf_matrix = confusion_matrix(y_true, y_pred)\n",
    "\n",
    "# Plotting the confusion matrix with annotations\n",
    "plt.figure(figsize=(8, 6))\n",
    "ax = sns.heatmap(conf_matrix, annot=True, fmt=\"d\", cmap=\"Blues\", xticklabels=[\"Irrelevant\", \"Relevant\"], yticklabels=[\"Irrelevant\", \"Relevant\"]) \n",
    "plt.title(\"Confusion Matrix\")\n",
    "plt.xlabel(\"Predicted Label\")\n",
    "plt.ylabel(\"True Label\")\n",
    "\n",
    "# Add custom annotations\n",
    "quad_texts = [['(TN)', '(FP)'], ['(FN)', '(TP)']]\n",
    "positions = [(0.5, 0.3), (1.5, 0.3), (0.5, 1.3), (1.5, 1.3)]\n",
    "colors = ['green', 'red', 'red', 'green']\n",
    "\n",
    "for pos, text, color in zip(positions, [text for row in quad_texts for text in row], colors):\n",
    "    ax.text(pos[0], pos[1], text, ha='center', va='center', color=color, fontsize=12, fontweight='bold')\n",
    "\n",
    "plt.show()\n"
   ]
  },
  {
   "cell_type": "code",
   "execution_count": 27,
   "metadata": {},
   "outputs": [
    {
     "name": "stdout",
     "output_type": "stream",
     "text": [
      "Confusion Matrix:\n",
      "[[ 35742  39658]\n",
      " [ 22344 102256]]\n",
      "True Positive (TP): 102256\n",
      "False Positive (FP): 39658\n",
      "True Negative (TN): 35742\n",
      "False Negative (FN): 22344\n",
      "Accuracy: 0.6900\n",
      "Precision: 0.7205\n",
      "Recall: 0.8207\n",
      "F1 Score: 0.7674\n"
     ]
    }
   ],
   "source": [
    "from sklearn.metrics import confusion_matrix, accuracy_score, precision_score, recall_score, f1_score\n",
    "\n",
    "# Assuming y_true and y_pred are already defined as in the previous example\n",
    "# y_true = np.array([...])\n",
    "# y_pred = np.array([...])\n",
    "\n",
    "# Calculate confusion matrix\n",
    "conf_matrix = confusion_matrix(y_true, y_pred)\n",
    "TN, FP, FN, TP = conf_matrix.ravel()\n",
    "\n",
    "# Calculate metrics\n",
    "accuracy = accuracy_score(y_true, y_pred)\n",
    "precision = precision_score(y_true, y_pred)\n",
    "recall = recall_score(y_true, y_pred)\n",
    "f1 = f1_score(y_true, y_pred)\n",
    "\n",
    "print(f\"Confusion Matrix:\\n{conf_matrix}\")\n",
    "print(f\"True Positive (TP): {TP}\")\n",
    "print(f\"False Positive (FP): {FP}\")\n",
    "print(f\"True Negative (TN): {TN}\")\n",
    "print(f\"False Negative (FN): {FN}\")\n",
    "print(f\"Accuracy: {accuracy:.4f}\")\n",
    "print(f\"Precision: {precision:.4f}\")\n",
    "print(f\"Recall: {recall:.4f}\")\n",
    "print(f\"F1 Score: {f1:.4f}\")\n"
   ]
  },
  {
   "cell_type": "markdown",
   "metadata": {},
   "source": [
    "As seen in the confusion matrix above and the the calculation below, False negatives and false positives represent about 30% of the data, which is ok. Although it's always better to keep it low, we can generally work with this. "
   ]
  },
  {
   "cell_type": "code",
   "execution_count": 28,
   "metadata": {},
   "outputs": [
    {
     "data": {
      "text/plain": [
       "31.001"
      ]
     },
     "execution_count": 28,
     "metadata": {},
     "output_type": "execute_result"
    }
   ],
   "source": [
    "TT = TN + TP\n",
    "FF = FN + FP\n",
    "\n",
    "Total = TT + FF\n",
    "percentage = (FF/Total)*100\n",
    "percentage"
   ]
  },
  {
   "cell_type": "markdown",
   "metadata": {},
   "source": [
    "The RSME below for our SDV model underperforms the KNNBasic model"
   ]
  },
  {
   "cell_type": "code",
   "execution_count": 29,
   "metadata": {},
   "outputs": [],
   "source": [
    "from surprise import SVD\n",
    "from surprise import accuracy"
   ]
  },
  {
   "cell_type": "code",
   "execution_count": 30,
   "metadata": {},
   "outputs": [
    {
     "name": "stdout",
     "output_type": "stream",
     "text": [
      "RMSE: 0.8333\n"
     ]
    },
    {
     "data": {
      "text/plain": [
       "0.83325443079513"
      ]
     },
     "execution_count": 30,
     "metadata": {},
     "output_type": "execute_result"
    }
   ],
   "source": [
    "model_2 = SVD() # svd recommender\n",
    "model_2.fit(train_set)\n",
    "\n",
    "svd_predictions = model_2.test(test_set)\n",
    "\n",
    "RMSE_model_2 = accuracy.rmse(svd_predictions)\n",
    "\n",
    "RMSE_model_2"
   ]
  },
  {
   "cell_type": "code",
   "execution_count": 31,
   "metadata": {},
   "outputs": [
    {
     "name": "stdout",
     "output_type": "stream",
     "text": [
      "Confusion Matrix:\n",
      "[[54990 20410]\n",
      " [33682 90918]]\n",
      "True Positive (TP): 90918\n",
      "False Positive (FP): 20410\n",
      "True Negative (TN): 54990\n",
      "False Negative (FN): 33682\n",
      "Accuracy: 0.7295\n",
      "Precision: 0.8167\n",
      "Recall: 0.7297\n",
      "F1 Score: 0.7707\n"
     ]
    }
   ],
   "source": [
    "from sklearn.metrics import confusion_matrix, accuracy_score, precision_score, recall_score, f1_score\n",
    "from surprise import SVD, Dataset, Reader, accuracy\n",
    "from surprise.model_selection import train_test_split\n",
    "import numpy as np\n",
    "import pandas as pd\n",
    "\n",
    "# Binarize the ratings (threshold set to 3.5 for relevant/irrelevant classification)\n",
    "threshold = 3.5\n",
    "y_true = np.array([1 if true_r >= threshold else 0 for (_, _, true_r, _, _) in svd_predictions])\n",
    "y_pred = np.array([1 if est >= threshold else 0 for (_, _, _, est, _) in svd_predictions])\n",
    "\n",
    "# Calculate confusion matrix\n",
    "conf_matrix = confusion_matrix(y_true, y_pred)\n",
    "TN, FP, FN, TP = conf_matrix.ravel()\n",
    "\n",
    "# Calculate metrics\n",
    "accuracy = accuracy_score(y_true, y_pred)\n",
    "precision = precision_score(y_true, y_pred)\n",
    "recall = recall_score(y_true, y_pred)\n",
    "f1 = f1_score(y_true, y_pred)\n",
    "\n",
    "print(f\"Confusion Matrix:\\n{conf_matrix}\")\n",
    "print(f\"True Positive (TP): {TP}\")\n",
    "print(f\"False Positive (FP): {FP}\")\n",
    "print(f\"True Negative (TN): {TN}\")\n",
    "print(f\"False Negative (FN): {FN}\")\n",
    "print(f\"Accuracy: {accuracy:.4f}\")\n",
    "print(f\"Precision: {precision:.4f}\")\n",
    "print(f\"Recall: {recall:.4f}\")\n",
    "print(f\"F1 Score: {f1:.4f}\")"
   ]
  },
  {
   "cell_type": "markdown",
   "metadata": {},
   "source": [
    "Therefore after comparing both of the above models (KNNBasic and SVD), we can say with confidence that the SVD model performs better overall. \n",
    "\n",
    "1. Accuracy \n",
    "    - KNNBasic: 69.57%\n",
    "    - **SVD: 73.06% (Winner)**\n",
    "2. Precision\n",
    "    - KNNBasic: 72.83%\n",
    "    - **SVD: 81.69% (Winner)**\n",
    "3. Recall\n",
    "    - **KNNBasic: 81.59% (Winner)**\n",
    "    - SVD: 73.15%\n",
    "4. F1 Score\n",
    "    - KNNBasic: 76.96%\n",
    "    - **SVD: 77.19% (Winner)**\n",
    "\n",
    "**Conculsion:** \n",
    "The SVD model outperforms KNNBasic due to its higher Accuracy (the retio of finding movies that fit the user's preferences is higher), Precision (the ratio of correctly recommended movies out of all movies recommended), and F1 Score (a combined measure that accounts for both precision and recall). That said, since KNNBasic has higher Recall score, if users value the discovery of a wider range of movies, then KNNBasic would be the model to use. But unless that's the case, SVD can make better and more specific recommendations to the user. "
   ]
  },
  {
   "cell_type": "markdown",
   "metadata": {},
   "source": [
    "## `model_B2` (SVD with new parameters)"
   ]
  },
  {
   "cell_type": "markdown",
   "metadata": {},
   "source": [
    "### Changing default parameters for model SVD to others:"
   ]
  },
  {
   "cell_type": "code",
   "execution_count": 32,
   "metadata": {},
   "outputs": [
    {
     "name": "stdout",
     "output_type": "stream",
     "text": [
      "RMSE: 0.8284\n"
     ]
    },
    {
     "data": {
      "text/plain": [
       "0.8283566495254113"
      ]
     },
     "execution_count": 32,
     "metadata": {},
     "output_type": "execute_result"
    }
   ],
   "source": [
    "from surprise import accuracy\n",
    "\n",
    "model_2B = SVD(\n",
    "    n_factors = 30,  # Number of latent factors\n",
    "    n_epochs = 30,    # Number of SGD iterations\n",
    "    lr_all = 0.004,   # Learning rate for all parameters. Default = 0.005\n",
    "    reg_all = 0.02    # Regularization term for all parameters\n",
    ")\n",
    "\n",
    "# Fit the model on the training set\n",
    "model_2B.fit(train_set)\n",
    "\n",
    "# Test the model on the test set\n",
    "svd_predictions2B = model_2B.test(test_set)\n",
    "\n",
    "# Calculate and print the RMSE\n",
    "RMSE_model2B = accuracy.rmse(svd_predictions2B)\n",
    "RMSE_model2B\n"
   ]
  },
  {
   "cell_type": "code",
   "execution_count": 33,
   "metadata": {},
   "outputs": [
    {
     "name": "stdout",
     "output_type": "stream",
     "text": [
      "RMSE: 0.8284\n",
      "RMSE: 0.8283566495254113\n",
      "Confusion Matrix:\n",
      "[[55105 20295]\n",
      " [33037 91563]]\n",
      "True Positive (TP): 91563\n",
      "False Positive (FP): 20295\n",
      "True Negative (TN): 55105\n",
      "False Negative (FN): 33037\n",
      "Accuracy: 0.7333\n",
      "Precision: 0.8186\n",
      "Recall: 0.7349\n",
      "F1 Score: 0.7745\n"
     ]
    }
   ],
   "source": [
    "# Calculate and print the RMSE\n",
    "RMSE_model2B = accuracy.rmse(svd_predictions2B)\n",
    "print(f'RMSE: {RMSE_model2B}')\n",
    "\n",
    "# Binarize the ratings (threshold set to 3.5 for relevant/irrelevant classification)\n",
    "threshold = 3.5\n",
    "y_true = np.array([1 if true_r >= threshold else 0 for (_, _, true_r, _, _) in svd_predictions2B])\n",
    "y_pred = np.array([1 if est >= threshold else 0 for (_, _, _, est, _) in svd_predictions2B])\n",
    "\n",
    "# Calculate confusion matrix\n",
    "conf_matrix = confusion_matrix(y_true, y_pred)\n",
    "TN, FP, FN, TP = conf_matrix.ravel()\n",
    "\n",
    "# Calculate metrics\n",
    "accuracy_metric = accuracy_score(y_true, y_pred)\n",
    "precision = precision_score(y_true, y_pred)\n",
    "recall = recall_score(y_true, y_pred)\n",
    "f1 = f1_score(y_true, y_pred)\n",
    "\n",
    "# Print results\n",
    "print(f\"Confusion Matrix:\\n{conf_matrix}\")\n",
    "print(f\"True Positive (TP): {TP}\")\n",
    "print(f\"False Positive (FP): {FP}\")\n",
    "print(f\"True Negative (TN): {TN}\")\n",
    "print(f\"False Negative (FN): {FN}\")\n",
    "print(f\"Accuracy: {accuracy_metric:.4f}\")\n",
    "print(f\"Precision: {precision:.4f}\")\n",
    "print(f\"Recall: {recall:.4f}\")\n",
    "print(f\"F1 Score: {f1:.4f}\")"
   ]
  },
  {
   "cell_type": "code",
   "execution_count": 34,
   "metadata": {},
   "outputs": [
    {
     "data": {
      "text/plain": [
       "(0.83325443079513, 0.8283566495254113)"
      ]
     },
     "execution_count": 34,
     "metadata": {},
     "output_type": "execute_result"
    }
   ],
   "source": [
    "#################################################################################################################\n",
    "### COMPARING THE SVD MODEL WITH DEFAULT PARAMETERS (model_2) WITH THE ONE WITH TWICKED PARAMETERS (model_2B) ###\n",
    "#################################################################################################################\n",
    "\n",
    "RMSE_model_2, RMSE_model2B"
   ]
  },
  {
   "cell_type": "markdown",
   "metadata": {},
   "source": [
    "## SVD (model_B2) performance:\n",
    "\n",
    "This model can predict movie ratings reliably. \n",
    "\n",
    "In terms of classification perfoamnce, this model has an accuracy of 0.73, the highest so far, whith a high presision of 0.81, which ensures relevant recommendations, as well as a recent recall at 0.73, which means it can handle a borad coverage of relevant movies for users. And finally the f1-score of 0.77 shows a balanced as well as efective overall perfomance. Together, all these metrics, make this SVD model (model_2B) quite solid (although could be further improved by applying feature engineering, normalization, cross-validaiton) for providing personalized movie recommendations. "
   ]
  },
  {
   "cell_type": "code",
   "execution_count": 35,
   "metadata": {},
   "outputs": [
    {
     "name": "stdout",
     "output_type": "stream",
     "text": [
      "Confusion Matrix:\n",
      "[[54990 20410]\n",
      " [33682 90918]]\n",
      "True Positive (TP): 90918\n",
      "False Positive (FP): 20410\n",
      "True Negative (TN): 54990\n",
      "False Negative (FN): 33682\n",
      "Accuracy: 0.7295\n",
      "Precision: 0.8167\n",
      "Recall: 0.7297\n",
      "F1 Score: 0.7707\n"
     ]
    }
   ],
   "source": [
    "from sklearn.metrics import confusion_matrix, accuracy_score, precision_score, recall_score, f1_score\n",
    "from surprise import SVD, Dataset, Reader, accuracy\n",
    "from surprise.model_selection import train_test_split\n",
    "import numpy as np\n",
    "import pandas as pd\n",
    "\n",
    "# Binarize the ratings (threshold set to 3.5 for relevant/irrelevant classification)\n",
    "threshold = 3.5\n",
    "y_true = np.array([1 if true_r >= threshold else 0 for (_, _, true_r, _, _) in svd_predictions])\n",
    "y_pred = np.array([1 if est >= threshold else 0 for (_, _, _, est, _) in svd_predictions])\n",
    "\n",
    "# Calculate confusion matrix\n",
    "conf_matrix = confusion_matrix(y_true, y_pred)\n",
    "TN, FP, FN, TP = conf_matrix.ravel()\n",
    "\n",
    "# Calculate metrics\n",
    "accuracy = accuracy_score(y_true, y_pred)\n",
    "precision = precision_score(y_true, y_pred)\n",
    "recall = recall_score(y_true, y_pred)\n",
    "f1 = f1_score(y_true, y_pred)\n",
    "\n",
    "print(f\"Confusion Matrix:\\n{conf_matrix}\")\n",
    "print(f\"True Positive (TP): {TP}\")\n",
    "print(f\"False Positive (FP): {FP}\")\n",
    "print(f\"True Negative (TN): {TN}\")\n",
    "print(f\"False Negative (FN): {FN}\")\n",
    "print(f\"Accuracy: {accuracy:.4f}\")\n",
    "print(f\"Precision: {precision:.4f}\")\n",
    "print(f\"Recall: {recall:.4f}\")\n",
    "print(f\"F1 Score: {f1:.4f}\")"
   ]
  },
  {
   "cell_type": "code",
   "execution_count": 36,
   "metadata": {},
   "outputs": [
    {
     "name": "stdout",
     "output_type": "stream",
     "text": [
      "movieId\n",
      "title\n",
      "genres\n"
     ]
    }
   ],
   "source": [
    "for i in movies_df:\n",
    "    print(i)"
   ]
  },
  {
   "cell_type": "code",
   "execution_count": null,
   "metadata": {},
   "outputs": [],
   "source": [
    "# # Display the list of movies\n",
    "# print(\"Please select your favorite movies from the list below:\")\n",
    "\n",
    "# for index, row in movies_df_s.iterrows():\n",
    "#     print(f\"{index + 1}. {row['title']} - {row['genres']}\")\n",
    "\n",
    "# # Simulate user input (for demonstration, let's assume user likes movies 1, 5, and 10)\n",
    "# user_favorites = [0, 4, 9]  # Indexes of the movies selected by the user\n",
    "# selected_movie_ids = movies_df_s.iloc[user_favorites]['movieId'].tolist()\n",
    "# print(f\"User selected movie IDs: {selected_movie_ids}\")\n",
    "\n",
    "\n",
    "# # Display the list of movies\n",
    "# print(\"Please select your favorite movies from the list below by entering the movie numbers separated by commas (e.g., 1, 5, 10):\")\n",
    "\n",
    "# for index, row in movies_df.iterrows():\n",
    "#     print(f\"{index + 1}. {row['title']} - {row['genres']}\")\n",
    "\n",
    "# # Collect user input\n",
    "# user_input = input(\"Enter the numbers of your favorite movies: \")\n",
    "# user_favorites = [int(num) - 1 for num in user_input.split(\",\")]\n",
    "# selected_movie_ids = movies_df.iloc[user_favorites]['movieId'].tolist()\n",
    "# print(f\"User selected movie IDs: {selected_movie_ids}\")\n",
    "\n",
    "# Display the sampled list of movies\n",
    "print(\"Please select your favorite movies from the list below by entering the movie numbers separated by commas (e.g., 1, 5, 10):\")\n",
    "\n",
    "for index, row in movies_df.iterrows():\n",
    "    print(f\"{index + 1}. {row['title']} - {row['genres']}\")\n",
    "\n",
    "# Collect user input (limit to 5 movies)\n",
    "user_input = input(\"Enter the numbers of your favorite movies (up to 5): \")\n",
    "user_favorites = [int(num.strip()) - 1 for num in user_input.split(\",\")][:5]\n",
    "selected_movie_ids = movies_df.iloc[user_favorites]['movieId'].tolist()\n",
    "print(f\"User selected movie IDs: {selected_movie_ids}\")\n",
    "\n"
   ]
  },
  {
   "cell_type": "markdown",
   "metadata": {},
   "source": [
    "In the input cell generated by the cell above, I entered the following movie IDs; 1, 58937, 59222, 258, 15239\n",
    "The RecSys shold recommend me similar movies to the ones I entered. "
   ]
  },
  {
   "cell_type": "code",
   "execution_count": 38,
   "metadata": {},
   "outputs": [],
   "source": [
    "from surprise import Dataset, Reader, SVD, accuracy\n",
    "from surprise.model_selection import train_test_split"
   ]
  },
  {
   "cell_type": "code",
   "execution_count": 39,
   "metadata": {},
   "outputs": [
    {
     "name": "stdout",
     "output_type": "stream",
     "text": [
      "Top 5 movie recommendations for you:\n",
      "Fargo (1996): estimated rating 5.00\n",
      "It Happened One Night (1934): estimated rating 5.00\n",
      "Rome, Open City (a.k.a. Open City) (Roma, città aperta) (1945): estimated rating 5.00\n",
      "Rules of the Game, The (La règle du jeu) (1939): estimated rating 5.00\n",
      "Come and See (Idi i smotri) (1985): estimated rating 5.00\n"
     ]
    }
   ],
   "source": [
    "# Simulate new user ID\n",
    "new_user_id = max(ratings_df['userId']) + 1\n",
    "\n",
    "# Add the user favorite movie ratings to the dataset for prediction\n",
    "new_ratings = pd.DataFrame([{'userId': new_user_id, 'movieId': movie_id, 'rating': 5} for movie_id in selected_movie_ids])\n",
    "ratings_df = pd.concat([ratings_df, new_ratings], ignore_index=True)\n",
    "\n",
    "# Prepare data for the recommendation model with the new user data\n",
    "data = Dataset.load_from_df(ratings_df[['userId', 'movieId', 'rating']], reader)\n",
    "train_set = data.build_full_trainset()\n",
    "model_2B.fit(train_set)\n",
    "\n",
    "# Predict ratings for all movies the user has not rated\n",
    "all_movie_ids = movies_df['movieId'].tolist()\n",
    "user_rated_movies = ratings_df[ratings_df['userId'] == new_user_id]['movieId'].tolist()\n",
    "movies_to_predict = [movie for movie in all_movie_ids if movie not in user_rated_movies]\n",
    "\n",
    "# Generate recommendations\n",
    "recommendations = []\n",
    "for movie_id in movies_to_predict:\n",
    "    pred = model_2B.predict(new_user_id, movie_id)\n",
    "    recommendations.append((movie_id, pred.est))\n",
    "\n",
    "# Sort recommendations by estimated rating\n",
    "recommendations.sort(key=lambda x: x[1], reverse=True)\n",
    "\n",
    "# Display the top 5 recommendations\n",
    "top_recommendations = recommendations[:5]\n",
    "print(\"Top 5 movie recommendations for you:\")\n",
    "for movie_id, est_rating in top_recommendations:\n",
    "    movie_title = movies_df[movies_df['movieId'] == movie_id]['title'].values[0]\n",
    "    print(f\"{movie_title}: estimated rating {est_rating:.2f}\")"
   ]
  },
  {
   "cell_type": "markdown",
   "metadata": {},
   "source": [
    "Indeed! The RecSys made recommendations in similar categories: i.e. business, Syfy, and dramas. "
   ]
  },
  {
   "cell_type": "markdown",
   "metadata": {},
   "source": [
    "## Building: User-Specific Movie Recommendation Engine\n",
    "\n",
    "The following function `get_user_predictions` doe the following:\n",
    "- Identifies those movies the user in question hasn't rated\n",
    "- Predicts ratings for these movies using our best-performing model: `model_B2`(SDV)\n",
    "- Sorts these predicitons to find the best recommendation for the user\n",
    "\n",
    "And finally it printed the top predictions for the user in question, which in this case is user #1"
   ]
  },
  {
   "cell_type": "code",
   "execution_count": 40,
   "metadata": {},
   "outputs": [
    {
     "name": "stdout",
     "output_type": "stream",
     "text": [
      "Movie: Band of Brothers (2001), Estimated Rating: 4.610028267874345\n",
      "Movie: Planet Earth II (2016), Estimated Rating: 4.564799103703698\n",
      "Movie: Louis C.K.: Chewed Up (2008), Estimated Rating: 4.537051952473869\n",
      "Movie: Planet Earth (2006), Estimated Rating: 4.5141295028230735\n",
      "Movie: Lives of Others, The (Das leben der Anderen) (2006), Estimated Rating: 4.489654588306309\n",
      "Movie: Schindler's List (1993), Estimated Rating: 4.474905367876988\n",
      "Movie: Wild Tales (2014), Estimated Rating: 4.4586341105676945\n",
      "Movie: Spirited Away (Sen to Chihiro no kamikakushi) (2001), Estimated Rating: 4.448628660387838\n",
      "Movie: Man Who Planted Trees, The (Homme qui plantait des arbres, L') (1987), Estimated Rating: 4.427184056690162\n",
      "Movie: Twin Peaks (1989), Estimated Rating: 4.403273531588903\n"
     ]
    }
   ],
   "source": [
    "def get_user_predictions(model_2B, user_id, ratings_df, movies_df, n=10):\n",
    "    # Get a list of all movie IDs\n",
    "    all_movie_ids = set(movies_df['movieId'].unique())\n",
    "\n",
    "    # Get the movie IDs that the user has already rated\n",
    "    user_rated_movie_ids = set(ratings_df[ratings_df['userId'] == user_id]['movieId'])\n",
    "\n",
    "    # Find the movie IDs that the user hasn't rated yet\n",
    "    unrated_movie_ids = all_movie_ids - user_rated_movie_ids\n",
    "\n",
    "    # Predict ratings for all unrated movies\n",
    "    predictions = [model_2B.predict(user_id, movie_id) for movie_id in unrated_movie_ids]\n",
    "\n",
    "    # Sort predictions by estimated rating\n",
    "    predictions.sort(key=lambda x: x.est, reverse=True)\n",
    "\n",
    "    # Return the top n predictions\n",
    "    return predictions[:n]\n",
    "\n",
    "# Example usage\n",
    "user_id = 1  # Replace with the specific user ID\n",
    "top_predictions = get_user_predictions(model_2B, user_id, ratings_df, movies_df, n=10)\n",
    "\n",
    "for prediction in top_predictions:\n",
    "    movie_id = prediction.iid\n",
    "    movie_title = movies_df[movies_df['movieId'] == movie_id]['title'].values[0]\n",
    "    estimated_rating = prediction.est\n",
    "    print(f'Movie: {movie_title}, Estimated Rating: {estimated_rating}')\n"
   ]
  },
  {
   "cell_type": "markdown",
   "metadata": {},
   "source": [
    "## Conclusion:\n",
    "\n",
    "In this notebook, we developed a simplified movie recommendation system using a subset of the MovieLens dataset. Here's a summary of the key steps and findings:\n",
    "\n",
    "1. Utilized 1 million ratings from the MovieLens dataset.\n",
    "    - Preprocessed data for the surprise library, fitting it for collaborative filtering.\n",
    "\n",
    "2. Model Training:\n",
    "\n",
    "    - Trained an SVD (Singular Value Decomposition) model on 75% of the data, with 25% reserved for testing.\n",
    "\n",
    "3. Cold Start Problem:\n",
    "\n",
    "    - Implemented a feature allowing users to input favorite movies to improve initial recommendations.\n",
    "\n",
    "4. Personalized Recommendations:\n",
    "\n",
    "    - Created the Personalized Movie Predictor function to generate recommendations for specific users.\n",
    "    - Predicted ratings for unrated movies and returned top recommendations.\n",
    "\n",
    "**Example Usage:**\n",
    "\n",
    "Demonstrated how to use the function with a specific user ID to generate and display top movie recommendations."
   ]
  },
  {
   "cell_type": "markdown",
   "metadata": {},
   "source": [
    "### Future Work:\n",
    "\n",
    "To enhance the recommendation system further, consider the following improvements:\n",
    "\n",
    "- Hybrid Models: Combine collaborative filtering with content-based filtering to leverage both user behavior and movie metadata.\n",
    "- Real-time Recommendations: Implement real-time data processing and recommendation generation to provide instant suggestions as user preferences change.\n",
    "- User Interface: Develop a user-friendly web application to interact with the recommendation system, allowing users to input preferences and receive recommendations seamlessly.\n",
    "\n",
    "This project lays a solid foundation for building and deploying a movie recommendation system. By continuing to refine the model and integrating it into a web application, we can create a robust tool that delivers personalized movie suggestions to users effectively."
   ]
  },
  {
   "cell_type": "markdown",
   "metadata": {},
   "source": [
    "## Papers Citations:\n",
    "\n",
    "**KNNBasic model:**\n",
    "\n",
    "Nguyen LV, Vo Q-T, Nguyen T-H. Adaptive KNN-Based Extended Collaborative Filtering Recommendation Services. Big Data and Cognitive Computing. 2023; 7(2):106. https://doi.org/10.3390/bdcc7020106\n",
    "\n",
    "**SVD model:**\n",
    "\n",
    "Widiyaningtyas T, Ardiansyah MI, Adji TB. Recommendation Algorithm Using SVD and Weight Point Rank (SVD-WPR). Big Data and Cognitive Computing. 2022; 6(4):121. https://doi.org/10.3390/bdcc6040121"
   ]
  },
  {
   "cell_type": "markdown",
   "metadata": {},
   "source": []
  }
 ],
 "metadata": {
  "kernelspec": {
   "display_name": "base",
   "language": "python",
   "name": "python3"
  },
  "language_info": {
   "codemirror_mode": {
    "name": "ipython",
    "version": 3
   },
   "file_extension": ".py",
   "mimetype": "text/x-python",
   "name": "python",
   "nbconvert_exporter": "python",
   "pygments_lexer": "ipython3",
   "version": "3.11.5"
  }
 },
 "nbformat": 4,
 "nbformat_minor": 2
}
